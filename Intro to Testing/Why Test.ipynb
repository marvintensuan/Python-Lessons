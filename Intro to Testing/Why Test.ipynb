{
 "cells": [
  {
   "cell_type": "markdown",
   "metadata": {},
   "source": [
    "# What are tests and why should you write them?\n",
    "\n",
    "Tests are written so that you (or your organization) can know whether an existing code behaves exactly the way you expect them to.\n",
    "\n",
    "Say, you are using a third-party library."
   ]
  },
  {
   "cell_type": "markdown",
   "metadata": {},
   "source": [
    "## Examples of code behavioral changes."
   ]
  },
  {
   "cell_type": "code",
   "execution_count": 1,
   "metadata": {},
   "outputs": [],
   "source": [
    "class Combinator:\n",
    "    '''A Sample Library'''\n",
    "    \n",
    "    __version__ = '0.0.1'\n",
    "    \n",
    "    @staticmethod\n",
    "    def combine(x, y):\n",
    "        '''To use this, import as:\n",
    "        `import Combinator.combine`\n",
    "        or\n",
    "        `from Combinator import combine`\n",
    "        \n",
    "        \n",
    "        Specs:\n",
    "        Takes arguments x: str and y:str\n",
    "        Returns string x+y\n",
    "        '''\n",
    "        \n",
    "        return x + y"
   ]
  },
  {
   "cell_type": "markdown",
   "metadata": {},
   "source": [
    "As a user, you may have downloaded this open-source library from either PyPI or conda-forge. Or you may have cloned it directly from the GitHub repository. It could also be the case where it is a code written by another user within your organization and you want to take advantage of it.\n",
    "\n",
    "You as a user having seen the source code, decided to use the library in your code base."
   ]
  },
  {
   "cell_type": "code",
   "execution_count": 2,
   "metadata": {},
   "outputs": [],
   "source": [
    "combine = Combinator.combine"
   ]
  },
  {
   "cell_type": "code",
   "execution_count": 3,
   "metadata": {},
   "outputs": [
    {
     "data": {
      "text/plain": [
       "'Hello World!'"
      ]
     },
     "execution_count": 3,
     "metadata": {},
     "output_type": "execute_result"
    }
   ],
   "source": [
    "combine('Hello', ' World!')"
   ]
  },
  {
   "cell_type": "code",
   "execution_count": 4,
   "metadata": {},
   "outputs": [
    {
     "data": {
      "text/plain": [
       "7"
      ]
     },
     "execution_count": 4,
     "metadata": {},
     "output_type": "execute_result"
    }
   ],
   "source": [
    "combine(3, 4)"
   ]
  },
  {
   "cell_type": "code",
   "execution_count": 5,
   "metadata": {},
   "outputs": [
    {
     "data": {
      "text/plain": [
       "[1, 2, 3, 4, 5, 6]"
      ]
     },
     "execution_count": 5,
     "metadata": {},
     "output_type": "execute_result"
    }
   ],
   "source": [
    "combine([1, 2, 3], [4, 5, 6])"
   ]
  },
  {
   "cell_type": "markdown",
   "metadata": {},
   "source": [
    "Imagine you now have hundreds of lines of code using the combine feature. You boss complemented you for doing a great job. \n",
    "\n",
    "Months or years after, the author announced a new beautiful feature that you also want to use. The code has also had seen improvements over time. You think, maybe it's time to upgrade the package."
   ]
  },
  {
   "cell_type": "code",
   "execution_count": 6,
   "metadata": {},
   "outputs": [],
   "source": [
    "class Combinator:\n",
    "    '''A Sample Library'''\n",
    "    \n",
    "    __version__ = '1.2.0'\n",
    "    \n",
    "    @staticmethod\n",
    "    def another_beautiful_feature():\n",
    "        ...\n",
    "    \n",
    "    @staticmethod\n",
    "    def combine(*args, **kwargs):\n",
    "        '''To use this, import as:\n",
    "        `import Combinator.combine`\n",
    "        or\n",
    "        `from Combinator import combine`\n",
    "        \n",
    "        Specs:\n",
    "        Concatenates all args and kwargs into a string.\n",
    "        '''\n",
    "        \n",
    "        args_str = list(map(str, args))\n",
    "        kwargs_str = list(map(str, kwargs))\n",
    "        \n",
    "        return ''.join(args_str + kwargs_str)"
   ]
  },
  {
   "cell_type": "code",
   "execution_count": 7,
   "metadata": {},
   "outputs": [],
   "source": [
    "combine = Combinator.combine"
   ]
  },
  {
   "cell_type": "markdown",
   "metadata": {},
   "source": [
    "You then wrote codes which use `another_beautiful_feature`, and deployed it to production.\n",
    "\n",
    "### BUT WAIT!!!\n",
    "\n",
    "Something weird is going on in the production!!!"
   ]
  },
  {
   "cell_type": "code",
   "execution_count": 8,
   "metadata": {},
   "outputs": [
    {
     "data": {
      "text/plain": [
       "'Hello World!'"
      ]
     },
     "execution_count": 8,
     "metadata": {},
     "output_type": "execute_result"
    }
   ],
   "source": [
    "combine('Hello', ' World!')"
   ]
  },
  {
   "cell_type": "code",
   "execution_count": 9,
   "metadata": {},
   "outputs": [
    {
     "data": {
      "text/plain": [
       "'34'"
      ]
     },
     "execution_count": 9,
     "metadata": {},
     "output_type": "execute_result"
    }
   ],
   "source": [
    "combine(3, 4)"
   ]
  },
  {
   "cell_type": "code",
   "execution_count": 10,
   "metadata": {},
   "outputs": [
    {
     "data": {
      "text/plain": [
       "'[1, 2, 3][4, 5, 6]'"
      ]
     },
     "execution_count": 10,
     "metadata": {},
     "output_type": "execute_result"
    }
   ],
   "source": [
    "combine([1, 2, 3], [4, 5, 6])"
   ]
  },
  {
   "cell_type": "markdown",
   "metadata": {},
   "source": [
    "It was only after hours of investigation that you found out that `Combinator.combine` doesn't behave the way it used to.\n",
    "\n",
    "Not only that but also, you now have to either spend hours rewriting the old code base, or rollback the changes which pretty much wastes all the hours you've spent writing around `another_beautiful_feature`.\n",
    "\n",
    "Your boss was displeased."
   ]
  },
  {
   "cell_type": "code",
   "execution_count": null,
   "metadata": {},
   "outputs": [],
   "source": []
  },
  {
   "cell_type": "code",
   "execution_count": null,
   "metadata": {},
   "outputs": [],
   "source": []
  },
  {
   "cell_type": "code",
   "execution_count": null,
   "metadata": {},
   "outputs": [],
   "source": []
  },
  {
   "cell_type": "code",
   "execution_count": null,
   "metadata": {},
   "outputs": [],
   "source": []
  },
  {
   "cell_type": "code",
   "execution_count": null,
   "metadata": {},
   "outputs": [],
   "source": []
  }
 ],
 "metadata": {
  "kernelspec": {
   "display_name": "Python 3",
   "language": "python",
   "name": "python3"
  },
  "language_info": {
   "codemirror_mode": {
    "name": "ipython",
    "version": 3
   },
   "file_extension": ".py",
   "mimetype": "text/x-python",
   "name": "python",
   "nbconvert_exporter": "python",
   "pygments_lexer": "ipython3",
   "version": "3.8.1"
  }
 },
 "nbformat": 4,
 "nbformat_minor": 4
}

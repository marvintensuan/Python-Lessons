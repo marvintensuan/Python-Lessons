{
 "cells": [
  {
   "cell_type": "code",
   "execution_count": 1,
   "metadata": {},
   "outputs": [],
   "source": [
    "import pandas as pd\n",
    "import matplotlib.pyplot as plt"
   ]
  },
  {
   "cell_type": "markdown",
   "metadata": {},
   "source": [
    "# Case Study: ABC Co.\n",
    "\n",
    "ABC Co. has the following cost information for ten units of products.\n",
    "\n",
    "Find the cost equation using:\n",
    "\n",
    "- High-Low Method\n",
    "- Least-Squares Regression Method"
   ]
  },
  {
   "cell_type": "code",
   "execution_count": 2,
   "metadata": {},
   "outputs": [
    {
     "data": {
      "text/html": [
       "<div>\n",
       "<style scoped>\n",
       "    .dataframe tbody tr th:only-of-type {\n",
       "        vertical-align: middle;\n",
       "    }\n",
       "\n",
       "    .dataframe tbody tr th {\n",
       "        vertical-align: top;\n",
       "    }\n",
       "\n",
       "    .dataframe thead th {\n",
       "        text-align: right;\n",
       "    }\n",
       "</style>\n",
       "<table border=\"1\" class=\"dataframe\">\n",
       "  <thead>\n",
       "    <tr style=\"text-align: right;\">\n",
       "      <th></th>\n",
       "      <th>Cost Activity</th>\n",
       "      <th>Unit Cost</th>\n",
       "    </tr>\n",
       "  </thead>\n",
       "  <tbody>\n",
       "    <tr>\n",
       "      <th>1</th>\n",
       "      <td>1.0</td>\n",
       "      <td>5.0</td>\n",
       "    </tr>\n",
       "    <tr>\n",
       "      <th>2</th>\n",
       "      <td>2.0</td>\n",
       "      <td>6.0</td>\n",
       "    </tr>\n",
       "    <tr>\n",
       "      <th>3</th>\n",
       "      <td>2.5</td>\n",
       "      <td>7.5</td>\n",
       "    </tr>\n",
       "    <tr>\n",
       "      <th>4</th>\n",
       "      <td>3.0</td>\n",
       "      <td>9.0</td>\n",
       "    </tr>\n",
       "    <tr>\n",
       "      <th>5</th>\n",
       "      <td>3.5</td>\n",
       "      <td>10.5</td>\n",
       "    </tr>\n",
       "    <tr>\n",
       "      <th>6</th>\n",
       "      <td>4.0</td>\n",
       "      <td>11.0</td>\n",
       "    </tr>\n",
       "    <tr>\n",
       "      <th>7</th>\n",
       "      <td>5.0</td>\n",
       "      <td>13.0</td>\n",
       "    </tr>\n",
       "    <tr>\n",
       "      <th>8</th>\n",
       "      <td>5.0</td>\n",
       "      <td>15.0</td>\n",
       "    </tr>\n",
       "    <tr>\n",
       "      <th>9</th>\n",
       "      <td>5.5</td>\n",
       "      <td>16.5</td>\n",
       "    </tr>\n",
       "    <tr>\n",
       "      <th>10</th>\n",
       "      <td>6.0</td>\n",
       "      <td>15.0</td>\n",
       "    </tr>\n",
       "  </tbody>\n",
       "</table>\n",
       "</div>"
      ],
      "text/plain": [
       "    Cost Activity  Unit Cost\n",
       "1             1.0        5.0\n",
       "2             2.0        6.0\n",
       "3             2.5        7.5\n",
       "4             3.0        9.0\n",
       "5             3.5       10.5\n",
       "6             4.0       11.0\n",
       "7             5.0       13.0\n",
       "8             5.0       15.0\n",
       "9             5.5       16.5\n",
       "10            6.0       15.0"
      ]
     },
     "execution_count": 2,
     "metadata": {},
     "output_type": "execute_result"
    }
   ],
   "source": [
    "ABC = pd.DataFrame({\n",
    "        'Cost Activity': [1, 2, 2.5, 3, 3.5, 4, 5, 5, 5.5, 6],\n",
    "        'Unit Cost': [5,6, 7.5, 9, 10.5, 11, 13, 15, 16.5, 15]\n",
    "}, index=list(range(1,11)))\n",
    "\n",
    "ABC"
   ]
  },
  {
   "cell_type": "code",
   "execution_count": 3,
   "metadata": {},
   "outputs": [
    {
     "data": {
      "image/png": "[encoded data removed]",
      "text/plain": [
       "<Figure size 432x288 with 1 Axes>"
      ]
     },
     "metadata": {
      "needs_background": "light"
     },
     "output_type": "display_data"
    }
   ],
   "source": [
    "plt.scatter(ABC['Cost Activity'], ABC['Unit Cost'])\n",
    "plt.title('Unit Costs for ABC Co.')\n",
    "plt.xlabel('Cost Activity')\n",
    "plt.ylabel('Unit Cost')\n",
    "plt.show()"
   ]
  },
  {
   "cell_type": "markdown",
   "metadata": {},
   "source": [
    "## High-Low Method\n",
    "\n",
    "The high-low method uses the following formula to separate the fix and variable cost.\n",
    "\n",
    "$\\Large{Variable\\ Cost\\ per\\ Unit\\ = \\ }\\frac{Highest\\ Activity\\ Cost - Lowest\\ Activity\\ Cost}{Highest\\ Activity - Lowest\\ Activity}$"
   ]
  },
  {
   "cell_type": "code",
   "execution_count": 4,
   "metadata": {},
   "outputs": [
    {
     "data": {
      "text/plain": [
       "2.0"
      ]
     },
     "execution_count": 4,
     "metadata": {},
     "output_type": "execute_result"
    }
   ],
   "source": [
    "VC_per_unit = (ABC['Unit Cost'].loc[10]  - ABC['Unit Cost'].loc[1]) \\\n",
    "            / (ABC['Cost Activity'].loc[10]  - ABC['Cost Activity'].loc[1])\n",
    "\n",
    "VC_per_unit"
   ]
  },
  {
   "cell_type": "markdown",
   "metadata": {},
   "source": [
    "**Computation for Fixed Cost**"
   ]
  },
  {
   "cell_type": "code",
   "execution_count": 5,
   "metadata": {},
   "outputs": [
    {
     "data": {
      "text/plain": [
       "3.0"
      ]
     },
     "execution_count": 5,
     "metadata": {},
     "output_type": "execute_result"
    }
   ],
   "source": [
    "FC_highest = ABC['Unit Cost'].loc[10] - (VC_per_unit * ABC['Cost Activity'].loc[10])\n",
    "FC_highest"
   ]
  },
  {
   "cell_type": "code",
   "execution_count": 6,
   "metadata": {},
   "outputs": [
    {
     "data": {
      "text/plain": [
       "3.0"
      ]
     },
     "execution_count": 6,
     "metadata": {},
     "output_type": "execute_result"
    }
   ],
   "source": [
    "FC_lowest = ABC['Unit Cost'].loc[1] - (VC_per_unit * ABC['Cost Activity'].loc[1])\n",
    "FC_lowest"
   ]
  },
  {
   "cell_type": "markdown",
   "metadata": {},
   "source": [
    "According to *High-Low Method*, the cost equation for ABC Co. is \n",
    "\n",
    "$\\Large{Unit\\ Cost\\ =\\ 2\\ \\times\\ Cost\\ Activity\\ +\\ 3}$\n",
    "\n",
    "where 2 is the Variable Cost per unit, and 3 is the Fixed Cost."
   ]
  },
  {
   "cell_type": "code",
   "execution_count": 7,
   "metadata": {},
   "outputs": [
    {
     "data": {
      "image/png": "[encoded data removed]",
      "text/plain": [
       "<Figure size 432x288 with 1 Axes>"
      ]
     },
     "metadata": {
      "needs_background": "light"
     },
     "output_type": "display_data"
    }
   ],
   "source": [
    "plt.scatter(ABC['Cost Activity'], ABC['Unit Cost'])\n",
    "plt.title('Unit Costs for ABC Co.')\n",
    "plt.xlabel('Cost Activity')\n",
    "plt.ylabel('Unit Cost')\n",
    "\n",
    "plt.plot(ABC['Cost Activity'], VC_per_unit*ABC['Cost Activity']+FC_highest, 'r')\n",
    "plt.show()"
   ]
  },
  {
   "cell_type": "markdown",
   "metadata": {},
   "source": [
    "## Least Squares Regression Method\n",
    "\n",
    "The *Least Squares Regression Method* gives us the line of best fit using this formula:\n",
    "\n",
    "$\\Large{Variable\\ Cost\\ per\\ Unit\\ = \\ }\\frac{\\sum{xy}\\ -\\ n(\\bar{x})(\\bar{y})}{\\sum{x^{2}}\\ -\\ n(\\bar{x})^{2}}$\n",
    "\n",
    "$\\Large{Fixed\\ Cost = \\bar{y} - Variable\\ Cost\\ per\\ Unit\\ \\times{\\bar{x}}}$"
   ]
  },
  {
   "cell_type": "code",
   "execution_count": 8,
   "metadata": {},
   "outputs": [
    {
     "name": "stdout",
     "output_type": "stream",
     "text": [
      "x_mean = 3.75 , y_mean = 10.85 , n = 10\n"
     ]
    }
   ],
   "source": [
    "x_mean = ABC['Cost Activity'].mean()\n",
    "y_mean = ABC['Unit Cost'].mean()\n",
    "n = len(ABC)\n",
    "\n",
    "print(f'{x_mean = }', f', {y_mean = }', f', {n = }')"
   ]
  },
  {
   "cell_type": "code",
   "execution_count": 9,
   "metadata": {},
   "outputs": [
    {
     "data": {
      "text/html": [
       "<div>\n",
       "<style scoped>\n",
       "    .dataframe tbody tr th:only-of-type {\n",
       "        vertical-align: middle;\n",
       "    }\n",
       "\n",
       "    .dataframe tbody tr th {\n",
       "        vertical-align: top;\n",
       "    }\n",
       "\n",
       "    .dataframe thead th {\n",
       "        text-align: right;\n",
       "    }\n",
       "</style>\n",
       "<table border=\"1\" class=\"dataframe\">\n",
       "  <thead>\n",
       "    <tr style=\"text-align: right;\">\n",
       "      <th></th>\n",
       "      <th>Cost Activity</th>\n",
       "      <th>Unit Cost</th>\n",
       "      <th>xy</th>\n",
       "      <th>x_squared</th>\n",
       "    </tr>\n",
       "  </thead>\n",
       "  <tbody>\n",
       "    <tr>\n",
       "      <th>1</th>\n",
       "      <td>1.0</td>\n",
       "      <td>5.0</td>\n",
       "      <td>5.00</td>\n",
       "      <td>1.00</td>\n",
       "    </tr>\n",
       "    <tr>\n",
       "      <th>2</th>\n",
       "      <td>2.0</td>\n",
       "      <td>6.0</td>\n",
       "      <td>12.00</td>\n",
       "      <td>4.00</td>\n",
       "    </tr>\n",
       "    <tr>\n",
       "      <th>3</th>\n",
       "      <td>2.5</td>\n",
       "      <td>7.5</td>\n",
       "      <td>18.75</td>\n",
       "      <td>6.25</td>\n",
       "    </tr>\n",
       "    <tr>\n",
       "      <th>4</th>\n",
       "      <td>3.0</td>\n",
       "      <td>9.0</td>\n",
       "      <td>27.00</td>\n",
       "      <td>9.00</td>\n",
       "    </tr>\n",
       "    <tr>\n",
       "      <th>5</th>\n",
       "      <td>3.5</td>\n",
       "      <td>10.5</td>\n",
       "      <td>36.75</td>\n",
       "      <td>12.25</td>\n",
       "    </tr>\n",
       "    <tr>\n",
       "      <th>6</th>\n",
       "      <td>4.0</td>\n",
       "      <td>11.0</td>\n",
       "      <td>44.00</td>\n",
       "      <td>16.00</td>\n",
       "    </tr>\n",
       "    <tr>\n",
       "      <th>7</th>\n",
       "      <td>5.0</td>\n",
       "      <td>13.0</td>\n",
       "      <td>65.00</td>\n",
       "      <td>25.00</td>\n",
       "    </tr>\n",
       "    <tr>\n",
       "      <th>8</th>\n",
       "      <td>5.0</td>\n",
       "      <td>15.0</td>\n",
       "      <td>75.00</td>\n",
       "      <td>25.00</td>\n",
       "    </tr>\n",
       "    <tr>\n",
       "      <th>9</th>\n",
       "      <td>5.5</td>\n",
       "      <td>16.5</td>\n",
       "      <td>90.75</td>\n",
       "      <td>30.25</td>\n",
       "    </tr>\n",
       "    <tr>\n",
       "      <th>10</th>\n",
       "      <td>6.0</td>\n",
       "      <td>15.0</td>\n",
       "      <td>90.00</td>\n",
       "      <td>36.00</td>\n",
       "    </tr>\n",
       "  </tbody>\n",
       "</table>\n",
       "</div>"
      ],
      "text/plain": [
       "    Cost Activity  Unit Cost     xy  x_squared\n",
       "1             1.0        5.0   5.00       1.00\n",
       "2             2.0        6.0  12.00       4.00\n",
       "3             2.5        7.5  18.75       6.25\n",
       "4             3.0        9.0  27.00       9.00\n",
       "5             3.5       10.5  36.75      12.25\n",
       "6             4.0       11.0  44.00      16.00\n",
       "7             5.0       13.0  65.00      25.00\n",
       "8             5.0       15.0  75.00      25.00\n",
       "9             5.5       16.5  90.75      30.25\n",
       "10            6.0       15.0  90.00      36.00"
      ]
     },
     "execution_count": 9,
     "metadata": {},
     "output_type": "execute_result"
    }
   ],
   "source": [
    "ABC['xy'] = ABC['Cost Activity'] * ABC['Unit Cost']\n",
    "ABC['x_squared'] = ABC['Cost Activity'] **2\n",
    "\n",
    "ABC"
   ]
  },
  {
   "cell_type": "code",
   "execution_count": 10,
   "metadata": {},
   "outputs": [
    {
     "name": "stdout",
     "output_type": "stream",
     "text": [
      "lsr_VC_per_unit = 2.378\n",
      "lsr_FC = 1.932\n"
     ]
    }
   ],
   "source": [
    "lsr_VC_per_unit = (sum(ABC['xy']) - (n * x_mean * y_mean) ) \\\n",
    "        / (sum(ABC['x_squared']) - (n * (x_mean ** 2)))\n",
    "\n",
    "lsr_FC = y_mean - (lsr_VC_per_unit * x_mean)\n",
    "\n",
    "print(f'{lsr_VC_per_unit = :,.4}')\n",
    "print(f'{lsr_FC = :,.4}')"
   ]
  },
  {
   "cell_type": "code",
   "execution_count": 11,
   "metadata": {},
   "outputs": [
    {
     "data": {
      "image/png": "[encoded data removed]",
      "text/plain": [
       "<Figure size 432x288 with 1 Axes>"
      ]
     },
     "metadata": {
      "needs_background": "light"
     },
     "output_type": "display_data"
    }
   ],
   "source": [
    "plt.scatter(ABC['Cost Activity'], ABC['Unit Cost'])\n",
    "plt.title('Unit Costs for ABC Co.')\n",
    "plt.xlabel('Cost Activity')\n",
    "plt.ylabel('Unit Cost')\n",
    "plt.plot(ABC['Cost Activity'], VC_per_unit*ABC['Cost Activity']+FC_highest, 'r')\n",
    "plt.plot(ABC['Cost Activity'], lsr_VC_per_unit*ABC['Cost Activity']+lsr_FC, '--g')\n",
    "plt.show()"
   ]
  },
  {
   "cell_type": "markdown",
   "metadata": {},
   "source": [
    "## Mean Squared Error"
   ]
  },
  {
   "cell_type": "code",
   "execution_count": 12,
   "metadata": {},
   "outputs": [
    {
     "data": {
      "text/html": [
       "<div>\n",
       "<style scoped>\n",
       "    .dataframe tbody tr th:only-of-type {\n",
       "        vertical-align: middle;\n",
       "    }\n",
       "\n",
       "    .dataframe tbody tr th {\n",
       "        vertical-align: top;\n",
       "    }\n",
       "\n",
       "    .dataframe thead th {\n",
       "        text-align: right;\n",
       "    }\n",
       "</style>\n",
       "<table border=\"1\" class=\"dataframe\">\n",
       "  <thead>\n",
       "    <tr style=\"text-align: right;\">\n",
       "      <th></th>\n",
       "      <th>Actual Cost (y)</th>\n",
       "      <th>HighLow (y1)</th>\n",
       "      <th>LSR (y2)</th>\n",
       "      <th>MSE1</th>\n",
       "      <th>MSE2</th>\n",
       "    </tr>\n",
       "  </thead>\n",
       "  <tbody>\n",
       "    <tr>\n",
       "      <th>1</th>\n",
       "      <td>5.0</td>\n",
       "      <td>5.0</td>\n",
       "      <td>4.309845</td>\n",
       "      <td>0.00</td>\n",
       "      <td>0.476315</td>\n",
       "    </tr>\n",
       "    <tr>\n",
       "      <th>2</th>\n",
       "      <td>6.0</td>\n",
       "      <td>7.0</td>\n",
       "      <td>6.688083</td>\n",
       "      <td>1.00</td>\n",
       "      <td>0.473458</td>\n",
       "    </tr>\n",
       "    <tr>\n",
       "      <th>3</th>\n",
       "      <td>7.5</td>\n",
       "      <td>8.0</td>\n",
       "      <td>7.877202</td>\n",
       "      <td>0.25</td>\n",
       "      <td>0.142281</td>\n",
       "    </tr>\n",
       "    <tr>\n",
       "      <th>4</th>\n",
       "      <td>9.0</td>\n",
       "      <td>9.0</td>\n",
       "      <td>9.066321</td>\n",
       "      <td>0.00</td>\n",
       "      <td>0.004399</td>\n",
       "    </tr>\n",
       "    <tr>\n",
       "      <th>5</th>\n",
       "      <td>10.5</td>\n",
       "      <td>10.0</td>\n",
       "      <td>10.255440</td>\n",
       "      <td>0.25</td>\n",
       "      <td>0.059809</td>\n",
       "    </tr>\n",
       "    <tr>\n",
       "      <th>6</th>\n",
       "      <td>11.0</td>\n",
       "      <td>11.0</td>\n",
       "      <td>11.444560</td>\n",
       "      <td>0.00</td>\n",
       "      <td>0.197633</td>\n",
       "    </tr>\n",
       "    <tr>\n",
       "      <th>7</th>\n",
       "      <td>13.0</td>\n",
       "      <td>13.0</td>\n",
       "      <td>13.822798</td>\n",
       "      <td>0.00</td>\n",
       "      <td>0.676996</td>\n",
       "    </tr>\n",
       "    <tr>\n",
       "      <th>8</th>\n",
       "      <td>15.0</td>\n",
       "      <td>13.0</td>\n",
       "      <td>13.822798</td>\n",
       "      <td>4.00</td>\n",
       "      <td>1.385805</td>\n",
       "    </tr>\n",
       "    <tr>\n",
       "      <th>9</th>\n",
       "      <td>16.5</td>\n",
       "      <td>14.0</td>\n",
       "      <td>15.011917</td>\n",
       "      <td>6.25</td>\n",
       "      <td>2.214391</td>\n",
       "    </tr>\n",
       "    <tr>\n",
       "      <th>10</th>\n",
       "      <td>15.0</td>\n",
       "      <td>15.0</td>\n",
       "      <td>16.201036</td>\n",
       "      <td>0.00</td>\n",
       "      <td>1.442488</td>\n",
       "    </tr>\n",
       "  </tbody>\n",
       "</table>\n",
       "</div>"
      ],
      "text/plain": [
       "    Actual Cost (y)  HighLow (y1)   LSR (y2)  MSE1      MSE2\n",
       "1               5.0           5.0   4.309845  0.00  0.476315\n",
       "2               6.0           7.0   6.688083  1.00  0.473458\n",
       "3               7.5           8.0   7.877202  0.25  0.142281\n",
       "4               9.0           9.0   9.066321  0.00  0.004399\n",
       "5              10.5          10.0  10.255440  0.25  0.059809\n",
       "6              11.0          11.0  11.444560  0.00  0.197633\n",
       "7              13.0          13.0  13.822798  0.00  0.676996\n",
       "8              15.0          13.0  13.822798  4.00  1.385805\n",
       "9              16.5          14.0  15.011917  6.25  2.214391\n",
       "10             15.0          15.0  16.201036  0.00  1.442488"
      ]
     },
     "execution_count": 12,
     "metadata": {},
     "output_type": "execute_result"
    }
   ],
   "source": [
    "err = pd.DataFrame()\n",
    "err['Actual Cost (y)'] = ABC['Unit Cost']\n",
    "err['HighLow (y1)'] = VC_per_unit*ABC['Cost Activity']+FC_highest\n",
    "err['LSR (y2)'] = lsr_VC_per_unit*ABC['Cost Activity']+lsr_FC\n",
    "\n",
    "err['MSE1'] = (err['HighLow (y1)'] - err['Actual Cost (y)']) ** 2\n",
    "err['MSE2'] = (err['LSR (y2)'] - err['Actual Cost (y)']) ** 2\n",
    "\n",
    "\n",
    "err"
   ]
  },
  {
   "cell_type": "code",
   "execution_count": 13,
   "metadata": {},
   "outputs": [
    {
     "name": "stdout",
     "output_type": "stream",
     "text": [
      "sum(err['MSE1']) = 11.75\n",
      "sum(err['MSE2']) = 7.074\n"
     ]
    }
   ],
   "source": [
    "print(f\"{sum(err['MSE1']) = :.4}\")\n",
    "print(f\"{sum(err['MSE2']) = :.4}\")"
   ]
  },
  {
   "cell_type": "markdown",
   "metadata": {},
   "source": [
    "## Using a Machine Learning Library"
   ]
  },
  {
   "cell_type": "code",
   "execution_count": null,
   "metadata": {},
   "outputs": [],
   "source": [
    "from sklearn.linear_model import LinearRegression\n",
    "import numpy as np"
   ]
  },
  {
   "cell_type": "code",
   "execution_count": 15,
   "metadata": {},
   "outputs": [
    {
     "data": {
      "text/plain": [
       "array([[1. ],\n",
       "       [2. ],\n",
       "       [2.5],\n",
       "       [3. ],\n",
       "       [3.5],\n",
       "       [4. ],\n",
       "       [5. ],\n",
       "       [5. ],\n",
       "       [5.5],\n",
       "       [6. ]])"
      ]
     },
     "execution_count": 15,
     "metadata": {},
     "output_type": "execute_result"
    }
   ],
   "source": [
    "x = ABC['Cost Activity'].to_numpy()\n",
    "x = x.reshape(-1, 1)\n",
    "x"
   ]
  },
  {
   "cell_type": "code",
   "execution_count": 16,
   "metadata": {},
   "outputs": [
    {
     "data": {
      "text/plain": [
       "array([[ 5. ],\n",
       "       [ 6. ],\n",
       "       [ 7.5],\n",
       "       [ 9. ],\n",
       "       [10.5],\n",
       "       [11. ],\n",
       "       [13. ],\n",
       "       [15. ],\n",
       "       [16.5],\n",
       "       [15. ]])"
      ]
     },
     "execution_count": 16,
     "metadata": {},
     "output_type": "execute_result"
    }
   ],
   "source": [
    "y = ABC['Unit Cost'].to_numpy()\n",
    "y = y.reshape(-1, 1)\n",
    "y"
   ]
  },
  {
   "cell_type": "code",
   "execution_count": 17,
   "metadata": {},
   "outputs": [],
   "source": [
    "regr = LinearRegression().fit(x, y)"
   ]
  },
  {
   "cell_type": "code",
   "execution_count": 18,
   "metadata": {},
   "outputs": [
    {
     "data": {
      "text/plain": [
       "array([[ 4.30984456],\n",
       "       [ 6.6880829 ],\n",
       "       [ 7.87720207],\n",
       "       [ 9.06632124],\n",
       "       [10.25544041],\n",
       "       [11.44455959],\n",
       "       [13.82279793],\n",
       "       [13.82279793],\n",
       "       [15.0119171 ],\n",
       "       [16.20103627]])"
      ]
     },
     "execution_count": 18,
     "metadata": {},
     "output_type": "execute_result"
    }
   ],
   "source": [
    "y_pred = regr.predict(x)\n",
    "y_pred"
   ]
  },
  {
   "cell_type": "code",
   "execution_count": 19,
   "metadata": {},
   "outputs": [
    {
     "data": {
      "image/png": "[encoded data removed]",
      "text/plain": [
       "<Figure size 432x288 with 1 Axes>"
      ]
     },
     "metadata": {
      "needs_background": "light"
     },
     "output_type": "display_data"
    }
   ],
   "source": [
    "plt.scatter(ABC['Cost Activity'], ABC['Unit Cost'])\n",
    "plt.title('Unit Costs for ABC Co.')\n",
    "plt.xlabel('Cost Activity')\n",
    "plt.ylabel('Unit Cost')\n",
    "\n",
    "plt.plot(ABC['Cost Activity'], VC_per_unit*ABC['Cost Activity']+FC_highest, 'r')\n",
    "plt.plot(ABC['Cost Activity'], lsr_VC_per_unit*ABC['Cost Activity']+lsr_FC, '--g', linewidth=5)\n",
    "plt.plot(ABC['Cost Activity'], y_pred, color='black')\n",
    "\n",
    "plt.show()"
   ]
  },
  {
   "cell_type": "code",
   "execution_count": 20,
   "metadata": {},
   "outputs": [
    {
     "data": {
      "text/html": [
       "<div>\n",
       "<style scoped>\n",
       "    .dataframe tbody tr th:only-of-type {\n",
       "        vertical-align: middle;\n",
       "    }\n",
       "\n",
       "    .dataframe tbody tr th {\n",
       "        vertical-align: top;\n",
       "    }\n",
       "\n",
       "    .dataframe thead th {\n",
       "        text-align: right;\n",
       "    }\n",
       "</style>\n",
       "<table border=\"1\" class=\"dataframe\">\n",
       "  <thead>\n",
       "    <tr style=\"text-align: right;\">\n",
       "      <th></th>\n",
       "      <th>Actual Cost (y)</th>\n",
       "      <th>HighLow (y1)</th>\n",
       "      <th>LSR (y2)</th>\n",
       "      <th>MSE1</th>\n",
       "      <th>MSE2</th>\n",
       "      <th>From sklearn</th>\n",
       "    </tr>\n",
       "  </thead>\n",
       "  <tbody>\n",
       "    <tr>\n",
       "      <th>1</th>\n",
       "      <td>5.0</td>\n",
       "      <td>5.0</td>\n",
       "      <td>4.309845</td>\n",
       "      <td>0.00</td>\n",
       "      <td>0.476315</td>\n",
       "      <td>4.309845</td>\n",
       "    </tr>\n",
       "    <tr>\n",
       "      <th>2</th>\n",
       "      <td>6.0</td>\n",
       "      <td>7.0</td>\n",
       "      <td>6.688083</td>\n",
       "      <td>1.00</td>\n",
       "      <td>0.473458</td>\n",
       "      <td>6.688083</td>\n",
       "    </tr>\n",
       "    <tr>\n",
       "      <th>3</th>\n",
       "      <td>7.5</td>\n",
       "      <td>8.0</td>\n",
       "      <td>7.877202</td>\n",
       "      <td>0.25</td>\n",
       "      <td>0.142281</td>\n",
       "      <td>7.877202</td>\n",
       "    </tr>\n",
       "    <tr>\n",
       "      <th>4</th>\n",
       "      <td>9.0</td>\n",
       "      <td>9.0</td>\n",
       "      <td>9.066321</td>\n",
       "      <td>0.00</td>\n",
       "      <td>0.004399</td>\n",
       "      <td>9.066321</td>\n",
       "    </tr>\n",
       "    <tr>\n",
       "      <th>5</th>\n",
       "      <td>10.5</td>\n",
       "      <td>10.0</td>\n",
       "      <td>10.255440</td>\n",
       "      <td>0.25</td>\n",
       "      <td>0.059809</td>\n",
       "      <td>10.255440</td>\n",
       "    </tr>\n",
       "    <tr>\n",
       "      <th>6</th>\n",
       "      <td>11.0</td>\n",
       "      <td>11.0</td>\n",
       "      <td>11.444560</td>\n",
       "      <td>0.00</td>\n",
       "      <td>0.197633</td>\n",
       "      <td>11.444560</td>\n",
       "    </tr>\n",
       "    <tr>\n",
       "      <th>7</th>\n",
       "      <td>13.0</td>\n",
       "      <td>13.0</td>\n",
       "      <td>13.822798</td>\n",
       "      <td>0.00</td>\n",
       "      <td>0.676996</td>\n",
       "      <td>13.822798</td>\n",
       "    </tr>\n",
       "    <tr>\n",
       "      <th>8</th>\n",
       "      <td>15.0</td>\n",
       "      <td>13.0</td>\n",
       "      <td>13.822798</td>\n",
       "      <td>4.00</td>\n",
       "      <td>1.385805</td>\n",
       "      <td>13.822798</td>\n",
       "    </tr>\n",
       "    <tr>\n",
       "      <th>9</th>\n",
       "      <td>16.5</td>\n",
       "      <td>14.0</td>\n",
       "      <td>15.011917</td>\n",
       "      <td>6.25</td>\n",
       "      <td>2.214391</td>\n",
       "      <td>15.011917</td>\n",
       "    </tr>\n",
       "    <tr>\n",
       "      <th>10</th>\n",
       "      <td>15.0</td>\n",
       "      <td>15.0</td>\n",
       "      <td>16.201036</td>\n",
       "      <td>0.00</td>\n",
       "      <td>1.442488</td>\n",
       "      <td>16.201036</td>\n",
       "    </tr>\n",
       "  </tbody>\n",
       "</table>\n",
       "</div>"
      ],
      "text/plain": [
       "    Actual Cost (y)  HighLow (y1)   LSR (y2)  MSE1      MSE2  From sklearn\n",
       "1               5.0           5.0   4.309845  0.00  0.476315      4.309845\n",
       "2               6.0           7.0   6.688083  1.00  0.473458      6.688083\n",
       "3               7.5           8.0   7.877202  0.25  0.142281      7.877202\n",
       "4               9.0           9.0   9.066321  0.00  0.004399      9.066321\n",
       "5              10.5          10.0  10.255440  0.25  0.059809     10.255440\n",
       "6              11.0          11.0  11.444560  0.00  0.197633     11.444560\n",
       "7              13.0          13.0  13.822798  0.00  0.676996     13.822798\n",
       "8              15.0          13.0  13.822798  4.00  1.385805     13.822798\n",
       "9              16.5          14.0  15.011917  6.25  2.214391     15.011917\n",
       "10             15.0          15.0  16.201036  0.00  1.442488     16.201036"
      ]
     },
     "execution_count": 20,
     "metadata": {},
     "output_type": "execute_result"
    }
   ],
   "source": [
    "err['From sklearn'] = y_pred\n",
    "err"
   ]
  },
  {
   "cell_type": "code",
   "execution_count": null,
   "metadata": {},
   "outputs": [],
   "source": []
  }
 ],
 "metadata": {
  "kernelspec": {
   "display_name": "Python 3",
   "language": "python",
   "name": "python3"
  },
  "language_info": {
   "codemirror_mode": {
    "name": "ipython",
    "version": 3
   },
   "file_extension": ".py",
   "mimetype": "text/x-python",
   "name": "python",
   "nbconvert_exporter": "python",
   "pygments_lexer": "ipython3",
   "version": "3.8.1"
  }
 },
 "nbformat": 4,
 "nbformat_minor": 4
}
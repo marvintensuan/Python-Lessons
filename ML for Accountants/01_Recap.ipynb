{
 "cells": [
  {
   "cell_type": "code",
   "execution_count": 1,
   "metadata": {},
   "outputs": [],
   "source": [
    "import numpy as np\n",
    "import pandas as pd\n",
    "import matplotlib.pyplot as plt"
   ]
  },
  {
   "cell_type": "markdown",
   "metadata": {},
   "source": [
    "# Case Study: ABC Co.\n",
    "\n",
    "ABC Co. has the following cost information for ten units of products.\n",
    "\n",
    "Find the cost equation using:\n",
    "\n",
    "- High-Low Method\n",
    "- Least-Square Regression Method"
   ]
  },
  {
   "cell_type": "code",
   "execution_count": 2,
   "metadata": {},
   "outputs": [
    {
     "data": {
      "text/html": [
       "<div>\n",
       "<style scoped>\n",
       "    .dataframe tbody tr th:only-of-type {\n",
       "        vertical-align: middle;\n",
       "    }\n",
       "\n",
       "    .dataframe tbody tr th {\n",
       "        vertical-align: top;\n",
       "    }\n",
       "\n",
       "    .dataframe thead th {\n",
       "        text-align: right;\n",
       "    }\n",
       "</style>\n",
       "<table border=\"1\" class=\"dataframe\">\n",
       "  <thead>\n",
       "    <tr style=\"text-align: right;\">\n",
       "      <th></th>\n",
       "      <th>Cost Activity</th>\n",
       "      <th>Unit Cost</th>\n",
       "    </tr>\n",
       "  </thead>\n",
       "  <tbody>\n",
       "    <tr>\n",
       "      <th>1</th>\n",
       "      <td>1.0</td>\n",
       "      <td>3.0</td>\n",
       "    </tr>\n",
       "    <tr>\n",
       "      <th>2</th>\n",
       "      <td>2.0</td>\n",
       "      <td>5.0</td>\n",
       "    </tr>\n",
       "    <tr>\n",
       "      <th>3</th>\n",
       "      <td>2.5</td>\n",
       "      <td>5.5</td>\n",
       "    </tr>\n",
       "    <tr>\n",
       "      <th>4</th>\n",
       "      <td>3.0</td>\n",
       "      <td>7.0</td>\n",
       "    </tr>\n",
       "    <tr>\n",
       "      <th>5</th>\n",
       "      <td>3.5</td>\n",
       "      <td>9.0</td>\n",
       "    </tr>\n",
       "    <tr>\n",
       "      <th>6</th>\n",
       "      <td>4.0</td>\n",
       "      <td>9.0</td>\n",
       "    </tr>\n",
       "    <tr>\n",
       "      <th>7</th>\n",
       "      <td>5.0</td>\n",
       "      <td>11.0</td>\n",
       "    </tr>\n",
       "    <tr>\n",
       "      <th>8</th>\n",
       "      <td>5.0</td>\n",
       "      <td>11.5</td>\n",
       "    </tr>\n",
       "    <tr>\n",
       "      <th>9</th>\n",
       "      <td>5.5</td>\n",
       "      <td>12.0</td>\n",
       "    </tr>\n",
       "    <tr>\n",
       "      <th>10</th>\n",
       "      <td>6.0</td>\n",
       "      <td>13.0</td>\n",
       "    </tr>\n",
       "  </tbody>\n",
       "</table>\n",
       "</div>"
      ],
      "text/plain": [
       "    Cost Activity  Unit Cost\n",
       "1             1.0        3.0\n",
       "2             2.0        5.0\n",
       "3             2.5        5.5\n",
       "4             3.0        7.0\n",
       "5             3.5        9.0\n",
       "6             4.0        9.0\n",
       "7             5.0       11.0\n",
       "8             5.0       11.5\n",
       "9             5.5       12.0\n",
       "10            6.0       13.0"
      ]
     },
     "execution_count": 2,
     "metadata": {},
     "output_type": "execute_result"
    }
   ],
   "source": [
    "ABC = pd.DataFrame({\n",
    "        'Cost Activity': [1, 2, 2.5, 3, 3.5, 4, 5, 5, 5.5, 6],\n",
    "        'Unit Cost': [3, 5, 5.5, 7, 9, 9, 11, 11.5, 12, 13]\n",
    "}, index=list(range(1,11)))\n",
    "\n",
    "ABC"
   ]
  },
  {
   "cell_type": "code",
   "execution_count": 3,
   "metadata": {},
   "outputs": [
    {
     "data": {
      "image/png": "[encoded data removed]",
      "text/plain": [
       "<Figure size 432x288 with 1 Axes>"
      ]
     },
     "metadata": {
      "needs_background": "light"
     },
     "output_type": "display_data"
    }
   ],
   "source": [
    "plt.scatter(ABC['Cost Activity'], ABC['Unit Cost'])\n",
    "plt.title('Unit Costs for ABC Co.')\n",
    "plt.xlabel('Cost Activity')\n",
    "plt.ylabel('Unit Cost')\n",
    "plt.show()"
   ]
  },
  {
   "cell_type": "markdown",
   "metadata": {},
   "source": [
    "## High-Low Method\n",
    "\n",
    "The high-low method uses the following formula to separate the fix and variable cost.\n",
    "\n",
    "<h3><center>$\\Large{Variable\\ Cost\\ per\\ Unit\\ = \\ }\\frac{Highest\\ Cost - Lowest\\ Cost}{Highest\\ Driver - Lowest\\ Driver}$</center></h3>"
   ]
  },
  {
   "cell_type": "code",
   "execution_count": 4,
   "metadata": {},
   "outputs": [
    {
     "data": {
      "text/plain": [
       "2.0"
      ]
     },
     "execution_count": 4,
     "metadata": {},
     "output_type": "execute_result"
    }
   ],
   "source": [
    "VC_per_unit = (ABC['Unit Cost'].max()  - ABC['Unit Cost'].min()) \\\n",
    "            / (ABC['Cost Activity'].max()  - ABC['Cost Activity'].min())\n",
    "\n",
    "VC_per_unit"
   ]
  },
  {
   "cell_type": "markdown",
   "metadata": {},
   "source": [
    "**Fixed Cost**"
   ]
  },
  {
   "cell_type": "code",
   "execution_count": 5,
   "metadata": {},
   "outputs": [
    {
     "data": {
      "text/plain": [
       "1.0"
      ]
     },
     "execution_count": 5,
     "metadata": {},
     "output_type": "execute_result"
    }
   ],
   "source": [
    "FC_highest = ABC['Unit Cost'].max() - (VC_per_unit * ABC['Cost Activity'].max())\n",
    "FC_highest"
   ]
  },
  {
   "cell_type": "code",
   "execution_count": 6,
   "metadata": {},
   "outputs": [
    {
     "data": {
      "text/plain": [
       "1.0"
      ]
     },
     "execution_count": 6,
     "metadata": {},
     "output_type": "execute_result"
    }
   ],
   "source": [
    "FC_lowest = ABC['Unit Cost'].min() - (VC_per_unit * ABC['Cost Activity'].min())\n",
    "FC_lowest"
   ]
  },
  {
   "cell_type": "markdown",
   "metadata": {},
   "source": [
    "According to *High-Low Method*, the cost equation for ABC Co. is \n",
    "\n",
    "<h3><center>$\\Large{Unit\\ Cost\\ =\\ 2\\ \\times\\ Cost\\ Activity\\ +\\ 1}$</center></h3>\n",
    "\n",
    "where 2 is the Variable Cost per unit, and 1 is the Fixed Cost."
   ]
  },
  {
   "cell_type": "code",
   "execution_count": 7,
   "metadata": {},
   "outputs": [
    {
     "data": {
      "image/png": "[encoded data removed]",
      "text/plain": [
       "<Figure size 432x288 with 1 Axes>"
      ]
     },
     "metadata": {
      "needs_background": "light"
     },
     "output_type": "display_data"
    }
   ],
   "source": [
    "plt.scatter(ABC['Cost Activity'], ABC['Unit Cost'])\n",
    "plt.title('Unit Costs for ABC Co.')\n",
    "plt.xlabel('Cost Activity')\n",
    "plt.ylabel('Unit Cost')\n",
    "plt.plot(ABC['Cost Activity'], 2*ABC['Cost Activity']+1, 'r')\n",
    "plt.show()"
   ]
  },
  {
   "cell_type": "code",
   "execution_count": null,
   "metadata": {},
   "outputs": [],
   "source": []
  }
 ],
 "metadata": {
  "kernelspec": {
   "display_name": "Python 3",
   "language": "python",
   "name": "python3"
  },
  "language_info": {
   "codemirror_mode": {
    "name": "ipython",
    "version": 3
   },
   "file_extension": ".py",
   "mimetype": "text/x-python",
   "name": "python",
   "nbconvert_exporter": "python",
   "pygments_lexer": "ipython3",
   "version": "3.8.1"
  }
 },
 "nbformat": 4,
 "nbformat_minor": 4
}

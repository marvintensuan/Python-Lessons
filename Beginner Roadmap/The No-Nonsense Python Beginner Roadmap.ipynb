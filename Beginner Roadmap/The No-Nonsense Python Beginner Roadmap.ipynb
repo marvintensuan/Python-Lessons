{
 "cells": [
  {
   "cell_type": "markdown",
   "metadata": {},
   "source": [
    "# The No-Nonsense Python Beginner Roadmap: A Handy Buddy to Prepare Your Jump From Beginner to Intermediate\n",
    "\n",
    "The internet definitely contains numerous resources about Python. And there is definitely no shortage of guides or tutorials for beginners. Such bountiful resources come with a cost, though: as a beginner, it is hard to sift through tutorials once you get past through the basics, but still feel something being missing before \"expanding vocabulary\" (e.g. utilizing the standard library, exploring a framework).\n",
    "\n",
    "What I mean by this is that often, and rightfully so, beginner guides cover basic concepts like variables, loops, and command line and file I/O. After that, beginners will often be given a third-party library for practical applications like dealing with PDFs and images.\n",
    "\n",
    "To be fair, these are enough skillset for someone to use tools like `pandas` or ` Django`. But soon enough, the beginners will start to ask, \"Is that really it? Is *the* bunch of programming work just about knowing libraries/tools/frameworks and reading documentation/internet threads?\"\n",
    "\n",
    "The answer is YES, so experienced developers will often reply an affirmation. However, I think there are layers to this question that I think would have been helpful to address in such discussion.\n",
    "\n",
    "This roadmap is made for you if:\n",
    "\n",
    "- You have covered several beginner guides and don't know where to go next.\n",
    "- You feel like you're way past the basics but still don't feel belonging to intermediate.\n",
    "- You have searched for intermediate guides and thought \"Woah, these are too advanced. Those words scare me.\"\n",
    "- You have searched for intermediate guides and thought \"Aren't these just a bunch of new libraries/functions? I can learn them later when the need arise!\"\n",
    "- You feel like you are missing *the* big picture. "
   ]
  },
  {
   "cell_type": "markdown",
   "metadata": {},
   "source": [
    "**TABLE OF CONTENTS**\n",
    "\n",
    "1. \"Beginner\" vs \"Intermediate\"\n",
    "2. \"First of all, Why Python?\"\n",
    "    - A Quick Overview about Programming Paradigms\n",
    "    - Python is Dynamically-typed\n",
    "    - More Python Runtime Magic\n",
    "3. The Python Community"
   ]
  },
  {
   "cell_type": "markdown",
   "metadata": {},
   "source": [
    "# \"Beginner\" vs \"Intermediate\"\n",
    "\n",
    "Where do you draw the line?\n",
    "\n",
    "Here's a list of topics covered in the \"intermediate section\" of my favorite resources.\n",
    "\n",
    "From [Beyond the Basic Stuff by Al Sweigart](https://www.amazon.com/Python-Beyond-Basics-Al-Sweigart/dp/1593279663):\n",
    "\n",
    "> Welcome to *Beyond the Basic Stuff with Python*. More than a mere collection of `advanced syntax` and masterful tips for `writing clean code`, you'll learn how to advance your Python programming skills by using the command line and other professional tools like `code formatters, type checkers, linters, and version control`. Sweigart takes you through best practices for `setting up your development environment, naming variables, and improving readability`, then tackles `documentation, organization and performance measurement`, as well as `object-oriented design and the Big-O algorithm` analysis commonly used in coding interviews. The skills you learn will boost your ability to program--not just in Python but in any language.\n",
    "\n",
    "From [Tech with Tim's Intermediate Python Tutorials](https://www.youtube.com/playlist?list=PLzMcBGfZo4-nhWva-6OVh1yKWHBs4o_tv):\n",
    "\n",
    "> - Optional Parameters\n",
    "> - Static and Class Methods\n",
    "> - Map, Filter and Lambda Functions\n",
    "> - Collections &mdash; Counter, namedtuple, Deque\n",
    "\n",
    "From [Corey Schafer's Intermediate Python](https://www.youtube.com/playlist?list=PLaL2yxczKLcDWDRB0ZrxsuKlupJU0Njje):\n",
    "\n",
    "> - Setting Up a Python Development Environment\n",
    "> - pip\n",
    "> - Variable Scopes\n",
    "> - Slicing Lists and Strings\n",
    "> - Comprehensions\n",
    "> - Sorting Lists, Tuples and Objects\n",
    "> - String Formatting\n",
    "> - os Module\n",
    "> - datetime module\n",
    "> - File Objects\n",
    "> - Automate Parsing and Naming of Multiple Files\n",
    "> - Using Try/Except Blocks for Error Handling\n",
    "> - Generators\n",
    "> - Decorators, Decorators with arguments\n",
    "> - namedtuple\n",
    "> - OOP: Classes and Instances, Class Variables, classmethods and staticmethods, inheritance, dunder methods \n",
    "> - Logging\n",
    "> - if \\_\\_name\\_\\_ == '\\_\\_main\\_\\_'\n",
    "> - Pillow\n",
    "\n",
    "Judging from these resources, the scope of what constitutes an \"intermediate\" skill is quite convoluted. Does knowing *Functional Programming* make one an intermediate? Does knowing *Object-Oriented Programming* make you one? What are environments? What are data structures and algorithms? What is version control? These are a lot of questions with no linear connections whatsoever.\n",
    "\n",
    "For the purpose of this roadmap, we can define an intermediate developer to be someone who can share code to other people and be confident (1) justifying why they wrote the code in such a way; and (2) knowing that the code they wrote will bother other people with the least amount of time, effort and money possible.\n",
    "\n",
    "Being able to justify your code means you were aware of choices, and a choice has been made. This enables developers to pro-actively learn for themselves, not just from documentations and tutorials but also from experience and discussions with other people.\n",
    "\n",
    "Bothering other people with the least amount of resource isn't just confined to writing \"clean code\" filled with comments or whatnot. Code with its own testing and good error handling also contribute to that."
   ]
  },
  {
   "cell_type": "markdown",
   "metadata": {},
   "source": [
    "# First of all, Why Python?\n",
    "\n",
    "This question is less obvious to people who have no prior programming experience. Some people chose Python not exactly because of its features but because of reasons as popularity, or that they saw online that it's good for beginners, or because it is a school requirement.\n",
    "\n",
    "But let's say you want to solve a problem, and that problem is to print integers 1 to 10.\n",
    "\n",
    "This is the code in C++:\n",
    "\n",
    "```c++\n",
    "#include <iostream>\n",
    "\n",
    "int main()\n",
    "{\n",
    "    for(int i = 1; i <= 10; i++) {\n",
    "        std::cout << i;\n",
    "    }\n",
    " \n",
    "    return 0;\n",
    "}\n",
    "```\n",
    "\n",
    "This is the code in Javascript:\n",
    "\n",
    "```javascript\n",
    "var i;\n",
    "for (i = 1; i == 10; i++) {\n",
    "  console.log(i)\n",
    "}\n",
    "```\n",
    "\n",
    "And this is the code in Python:\n",
    "\n",
    "```python\n",
    "for i in range(1, 11):\n",
    "    print(i)\n",
    "```\n",
    "\n",
    "I presented the same code between three languages not to illustrate differences (e.g. \"Python had the easiest, simplest one!\") but to show a similarity &mdash; the fact that what you can do with Python, you can also do with other languages. let's ask ourselves again the question, why Python?\n",
    "\n",
    "In fact, compiling the C++ code would provide you a *.exe* file; Javascript runs in all browsers. For other users to run your Python code, they also need to have Python installed. Despite that, what makes Python popular? And why do we have to ask on a discussion about a developer's skill level?\n",
    "\n",
    "Let's find out."
   ]
  },
  {
   "cell_type": "markdown",
   "metadata": {},
   "source": [
    "## A Quick Overview About Programming Paradigms\n",
    "\n",
    "This is a good YouTube video by Smok explaining different programming paradigms.\n",
    "\n",
    "[![](http://img.youtube.com/vi/cUjieVW7IgQ/0.jpg)](https://www.youtube.com/watch?v=cUjieVW7IgQ \"Programming Paradigms 101\")\n",
    "\n",
    "Python supports multiple paradigms, including object-oriented and functional programming."
   ]
  },
  {
   "cell_type": "code",
   "execution_count": 1,
   "metadata": {
    "scrolled": true
   },
   "outputs": [
    {
     "name": "stdout",
     "output_type": "stream",
     "text": [
      "Solution via imperative programming.\n",
      "10 9 8 7 6 5 4 3 2 1 \n",
      "\n",
      "Solution via functional programming (recursion).\n",
      "10 9 8 7 6 5 4 3 2 1 "
     ]
    },
    {
     "data": {
      "text/plain": [
       "10"
      ]
     },
     "execution_count": 1,
     "metadata": {},
     "output_type": "execute_result"
    }
   ],
   "source": [
    "# Problem: Given integer n, do a countdown from n to 1. \n",
    "\n",
    "def print_imperative(n):\n",
    "    for i in reversed(range(1, n+1)):\n",
    "        print(i, end = ' ')\n",
    "\n",
    "def print_recursively(n):\n",
    "    if n == 1:\n",
    "        print(1, end = ' ')\n",
    "        return 1\n",
    "    else:\n",
    "        print(n, end = ' ')\n",
    "        return 1 + print_recursively(n-1)\n",
    "    \n",
    "        \n",
    "print('Solution via imperative programming.')\n",
    "print_imperative(10)\n",
    "\n",
    "print('\\n\\nSolution via functional programming (recursion).')\n",
    "print_recursively(10)"
   ]
  },
  {
   "cell_type": "markdown",
   "metadata": {},
   "source": [
    "## Python is Dynamically-Typed\n",
    "\n",
    "**Repercussions:**\n",
    "\n",
    "With Python, you don't have to concern yourself with declaring variables.\n",
    "\n",
    "```vbscript\n",
    "Option Explicit\n",
    "\n",
    "Dim thisNumber As Integer\n",
    "Dim myThing As Variant\n",
    "ReDim myThing(1 To 5, 1 To 2)\n",
    "```\n",
    "\n",
    "More flexibility in passing arguments to a function.\n",
    "\n",
    "```python\n",
    "def pass_me_anything(anything)\n",
    "    ...\n",
    "```\n",
    "\n",
    "\n",
    "No errors until explicitly raised."
   ]
  },
  {
   "cell_type": "code",
   "execution_count": 2,
   "metadata": {},
   "outputs": [
    {
     "name": "stdout",
     "output_type": "stream",
     "text": [
      "But it doesn't matter so long as we don't call it.\n",
      "The function was indeed created but not called.\n",
      "<function this_func_will_raise_type_error at 0x000001F13BED25E0>\n"
     ]
    }
   ],
   "source": [
    "def this_func_will_raise_type_error():\n",
    "    return 'Hello World' + 1\n",
    "\n",
    "print(\"But it doesn't matter so long as we don't call it.\")\n",
    "print('The function was indeed created but not called.')\n",
    "print(this_func_will_raise_type_error)"
   ]
  },
  {
   "cell_type": "markdown",
   "metadata": {},
   "source": [
    "## More Python Runtime Magic\n",
    "\n",
    "Everything in Python is an object. :)"
   ]
  },
  {
   "cell_type": "code",
   "execution_count": 3,
   "metadata": {},
   "outputs": [
    {
     "name": "stdout",
     "output_type": "stream",
     "text": [
      "When Mercury is in retrograde, a and b are evaluated as:\n",
      "7\n",
      "Otherwise, a and b are evaluated as:\n",
      "12\n"
     ]
    }
   ],
   "source": [
    "def function_factory(is_retrograde):\n",
    "    if is_retrograde:\n",
    "        def my_dynamic_function(x, y):\n",
    "            return x + y\n",
    "    else:\n",
    "        def my_dynamic_function(x,y):\n",
    "            return x * y\n",
    "    return my_dynamic_function\n",
    "\n",
    "mercury_in_retrograde = function_factory(True)\n",
    "\n",
    "normal_days = function_factory(False)\n",
    "\n",
    "a = 3\n",
    "b = 4\n",
    "\n",
    "print('When Mercury is in retrograde, a and b are evaluated as:')\n",
    "print(mercury_in_retrograde(a,b))\n",
    "\n",
    "print('Otherwise, a and b are evaluated as:')\n",
    "print(normal_days(a,b))"
   ]
  },
  {
   "cell_type": "markdown",
   "metadata": {},
   "source": [
    "**Decorators** &mdash; sample use cases include: adding custom timers and error handling."
   ]
  },
  {
   "cell_type": "code",
   "execution_count": 4,
   "metadata": {},
   "outputs": [],
   "source": [
    "def my_decorator(custom_function):    \n",
    "    def inner(n):\n",
    "        print(f'Function {custom_function.__name__} started.')\n",
    "        result = custom_function(n)\n",
    "        print(f'Function {custom_function.__name__} ended.')\n",
    "        return result\n",
    "    return inner"
   ]
  },
  {
   "cell_type": "code",
   "execution_count": 5,
   "metadata": {},
   "outputs": [],
   "source": [
    "def add_one(n):\n",
    "    return n + 1\n",
    "\n",
    "def add_two(n):\n",
    "    return n + 2"
   ]
  },
  {
   "cell_type": "code",
   "execution_count": 6,
   "metadata": {},
   "outputs": [
    {
     "name": "stdout",
     "output_type": "stream",
     "text": [
      "Function add_one started.\n",
      "Function add_one ended.\n",
      "Function add_two started.\n",
      "Function add_two ended.\n",
      "7 8\n"
     ]
    }
   ],
   "source": [
    "seven = my_decorator(add_one)(6)\n",
    "eight = my_decorator(add_two)(6)\n",
    "print(seven, eight)"
   ]
  },
  {
   "cell_type": "code",
   "execution_count": 7,
   "metadata": {},
   "outputs": [],
   "source": [
    "@my_decorator\n",
    "def add_three(n):\n",
    "    return n + 3"
   ]
  },
  {
   "cell_type": "code",
   "execution_count": 8,
   "metadata": {},
   "outputs": [
    {
     "name": "stdout",
     "output_type": "stream",
     "text": [
      "Function add_three started.\n",
      "Function add_three ended.\n",
      "9\n"
     ]
    }
   ],
   "source": [
    "nine = add_three(6)\n",
    "print(nine)"
   ]
  },
  {
   "cell_type": "markdown",
   "metadata": {},
   "source": [
    "# The Python Community\n",
    "\n",
    "Here's a glossary of frequently used terms within the Python Community.\n",
    "\n",
    "- **Python Enhancement Proposal (PEP)** - \"A PEP is a design document providing information to the Python community, or describing a new feature for Python or its processes or environment. The PEP should provide a concise technical specification of the feature and a rationale for the feature.\" All events and changes in Python are done via PEP. For instance, PEP 0 is a list of all PEPs. PEP 1 contains the definition, purpose and guidelines for writing PEPs.\n",
    "\n",
    "    Some Notable PEPs include:\n",
    "    \n",
    "    - PEP 8 &mdash; The Style Guide for Python Code\n",
    "    - PEP 20 &mdash; The Zen of Python\n",
    "    - PEP 572 &mdash; Assignment Operator\n",
    "\n",
    "\n",
    "- **Benevolent Dictator for Life** - Guido van Rossum. Guido stepped down as the BDFL in 2018. His role was then replaced by the Python Steering Council.\n",
    "\n",
    "- **Python Steering Council** - According to PEP 8016, \"The steering council shall work to:\n",
    "    - Maintain the quality and stability of the Python language and CPython interpreter,\n",
    "    - Make contributing as accessible, inclusive, and sustainable as possible,\n",
    "    - Formalize and maintain the relationship between the core team and the PSF,\n",
    "    - Establish appropriate decision-making processes for PEPs,\n",
    "    - Seek consensus among contributors and the core team before acting in a formal capacity,\n",
    "    - Act as a \"court of final appeal\" for decisions where all other methods have failed.\"\n",
    "- **Python Core Developer** - they are the developers with commit access for the CPython project on GitHub.\n",
    "- **Python Software Foundation** - \"The mission of the Python Software Foundation is to promote, protect, and advance the Python programming language, and to support and facilitate the growth of a diverse and international community of Python programmers.\"\n",
    "- **PyCon** - Python conferences officially recognized by the PSF.\n",
    "\n",
    "---\n",
    "\n",
    "- **PyData** - Python conferences officially sponsored by NumFOCUS. PyData conferences focus on data science topics.\n",
    "- **NumFOCUS** - Numerical Foundation for Open Code and Useable Science. NumFOCUS is the main sponsor for open-source projects such as Jupyter Notebooks, numpy, pandas, and the Julia programming language.\n",
    "- **SciPy** - a Python-based ecosystem of open-source software for mathematics, science, and engineering. In particular, these are some of the core packages: NumPy, pandas, matplotlib, IPython\n"
   ]
  },
  {
   "cell_type": "code",
   "execution_count": null,
   "metadata": {},
   "outputs": [],
   "source": []
  },
  {
   "cell_type": "code",
   "execution_count": null,
   "metadata": {},
   "outputs": [],
   "source": []
  },
  {
   "cell_type": "code",
   "execution_count": null,
   "metadata": {},
   "outputs": [],
   "source": []
  }
 ],
 "metadata": {
  "kernelspec": {
   "display_name": "Python 3",
   "language": "python",
   "name": "python3"
  },
  "language_info": {
   "codemirror_mode": {
    "name": "ipython",
    "version": 3
   },
   "file_extension": ".py",
   "mimetype": "text/x-python",
   "name": "python",
   "nbconvert_exporter": "python",
   "pygments_lexer": "ipython3",
   "version": "3.8.1"
  }
 },
 "nbformat": 4,
 "nbformat_minor": 4
}

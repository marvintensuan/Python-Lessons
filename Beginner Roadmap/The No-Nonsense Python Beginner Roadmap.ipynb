{
 "cells": [
  {
   "cell_type": "markdown",
   "metadata": {},
   "source": [
    "# The No-Nonsense Python Beginner Roadmap: A Handy Buddy to Prepare Your Jump From Beginner to Intermediate\n",
    "\n",
    "The internet definitely contains numerous resources about Python. And there is definitely no shortage of guides or tutorials for beginners. Such bountiful resources come with a cost, though: as a beginner, it is hard to sift through tutorials once you get past through the basics, but still feel something being missing before \"expanding vocabulary\" (e.g. utilizing the standard library, exploring a framework).\n",
    "\n",
    "What I mean by this is that often, and rightfully so, beginner guides cover basic concepts like variables, loops, and command line and file I/O. After that, beginners will often be given a third-party library for practical applications like dealing with PDFs and images.\n",
    "\n",
    "To be fair, these are enough skillset for someone to use tools like `pandas` or ` Django`. But soon enough, the beginners will start to ask, \"Is that really it? Is *the* bunch of programming work just about knowing libraries/tools/frameworks and reading documentation/internet threads?\"\n",
    "\n",
    "The answer is YES, so experienced developers will often reply an affirmation. However, I think there are layers to this question that I think would have been helpful to address in such discussion.\n",
    "\n",
    "This roadmap is made for you if:\n",
    "\n",
    "- You have covered several beginner guides and don't know where to go next.\n",
    "- You feel like you're way past the basics but still don't feel belonging to intermediate.\n",
    "- You have searched for intermediate guides and thought \"Woah, these are too advanced. Those words scare me.\"\n",
    "- You have searched for intermediate guides and thought \"Aren't these just a bunch of new libraries/functions? I can learn them later when the need arise!\"\n",
    "- You feel like you are missing *the* big picture. "
   ]
  },
  {
   "cell_type": "markdown",
   "metadata": {},
   "source": [
    "**TABLE OF CONTENTS**\n",
    "\n",
    "1. \"Beginner\" vs \"Intermediate\"\n",
    "2. \"First of all, Why Python?\"\n",
    "    - A Quick Overview about Programming Paradigms\n",
    "    - Python is Dynamically-typed\n",
    "    - More Python Runtime Magic\n",
    "3. The Python Community\n",
    "4. Code Organization: Creating Your Own Modules\n",
    "5. Beyond PEP 8: How to make your code look like a Python Code\n",
    "    - PEP 8 &mdash; the Style Guide for Python Code\n",
    "    - Clean Code\n",
    "    - Python Idioms\n",
    "6. Python Object Orientation\n",
    "7. Data Structures and Algorithms"
   ]
  },
  {
   "cell_type": "markdown",
   "metadata": {},
   "source": [
    "# \"Beginner\" vs \"Intermediate\"\n",
    "\n",
    "Where do you draw the line?\n",
    "\n",
    "Here's a list of topics covered in the \"intermediate section\" of my favorite resources.\n",
    "\n",
    "From [Beyond the Basic Stuff by Al Sweigart](https://www.amazon.com/Python-Beyond-Basics-Al-Sweigart/dp/1593279663):\n",
    "\n",
    "> Welcome to *Beyond the Basic Stuff with Python*. More than a mere collection of `advanced syntax` and masterful tips for `writing clean code`, you'll learn how to advance your Python programming skills by using the command line and other professional tools like `code formatters, type checkers, linters, and version control`. Sweigart takes you through best practices for `setting up your development environment, naming variables, and improving readability`, then tackles `documentation, organization and performance measurement`, as well as `object-oriented design and the Big-O algorithm` analysis commonly used in coding interviews. The skills you learn will boost your ability to program--not just in Python but in any language.\n",
    "\n",
    "From [Tech with Tim's Intermediate Python Tutorials](https://www.youtube.com/playlist?list=PLzMcBGfZo4-nhWva-6OVh1yKWHBs4o_tv):\n",
    "\n",
    "> - Optional Parameters\n",
    "> - Static and Class Methods\n",
    "> - Map, Filter and Lambda Functions\n",
    "> - Collections &mdash; Counter, namedtuple, Deque\n",
    "\n",
    "From [Corey Schafer's Intermediate Python](https://www.youtube.com/playlist?list=PLaL2yxczKLcDWDRB0ZrxsuKlupJU0Njje):\n",
    "\n",
    "> - Setting Up a Python Development Environment\n",
    "> - pip\n",
    "> - Variable Scopes\n",
    "> - Slicing Lists and Strings\n",
    "> - Comprehensions\n",
    "> - Sorting Lists, Tuples and Objects\n",
    "> - String Formatting\n",
    "> - os Module\n",
    "> - datetime module\n",
    "> - File Objects\n",
    "> - Automate Parsing and Naming of Multiple Files\n",
    "> - Using Try/Except Blocks for Error Handling\n",
    "> - Generators\n",
    "> - Decorators, Decorators with arguments\n",
    "> - namedtuple\n",
    "> - OOP: Classes and Instances, Class Variables, classmethods and staticmethods, inheritance, dunder methods \n",
    "> - Logging\n",
    "> - if \\_\\_name\\_\\_ == '\\_\\_main\\_\\_'\n",
    "> - Pillow\n",
    "\n",
    "Judging from these resources, the scope of what constitutes an \"intermediate\" skill is quite convoluted. Does knowing *Functional Programming* make one an intermediate? Does knowing *Object-Oriented Programming* make you one? What are environments? What are data structures and algorithms? What is version control? These are a lot of questions with no linear connections whatsoever.\n",
    "\n",
    "For the purpose of this roadmap, we can define an intermediate developer to be someone who can share code to other people and be confident (1) justifying why they wrote the code in such a way; and (2) knowing that the code they wrote will bother other people with the least amount of time, effort and money possible.\n",
    "\n",
    "Being able to justify your code means you were aware of choices, and a choice has been made. This enables developers to pro-actively learn for themselves, not just from documentations and tutorials but also from experience and discussions with other people.\n",
    "\n",
    "Bothering other people with the least amount of resource isn't just confined to writing \"clean code\" filled with comments or whatnot. Code with its own testing and good error handling also contribute to that."
   ]
  },
  {
   "cell_type": "markdown",
   "metadata": {},
   "source": [
    "# First of all, Why Python?\n",
    "\n",
    "This question is less obvious to people who have no prior programming experience. Some people chose Python not exactly because of its features but because of reasons as popularity, or that they saw online that it's good for beginners, or because it is a school requirement.\n",
    "\n",
    "But let's say you want to solve a problem, and that problem is to print integers 1 to 10.\n",
    "\n",
    "This is the code in C++:\n",
    "\n",
    "```c++\n",
    "#include <iostream>\n",
    "\n",
    "int main()\n",
    "{\n",
    "    for(int i = 1; i <= 10; i++) {\n",
    "        std::cout << i;\n",
    "    }\n",
    " \n",
    "    return 0;\n",
    "}\n",
    "```\n",
    "\n",
    "This is the code in Javascript:\n",
    "\n",
    "```javascript\n",
    "var i;\n",
    "for (i = 1; i == 10; i++) {\n",
    "  console.log(i)\n",
    "}\n",
    "```\n",
    "\n",
    "And this is the code in Python:\n",
    "\n",
    "```python\n",
    "for i in range(1, 11):\n",
    "    print(i)\n",
    "```\n",
    "\n",
    "I presented the same code between three languages not to illustrate differences (e.g. \"Python had the easiest, simplest one!\") but to show a similarity &mdash; the fact that what you can do with Python, you can also do with other languages. let's ask ourselves again the question, why Python?\n",
    "\n",
    "In fact, compiling the C++ code would provide you a *.exe* file; Javascript runs in all browsers. For other users to run your Python code, they also need to have Python installed. Despite that, what makes Python popular? And why do we have to ask on a discussion about a developer's skill level?\n",
    "\n",
    "Let's find out."
   ]
  },
  {
   "cell_type": "markdown",
   "metadata": {},
   "source": [
    "## A Quick Overview About Programming Paradigms\n",
    "\n",
    "This is a good YouTube video by Smok explaining different programming paradigms.\n",
    "\n",
    "[![](http://img.youtube.com/vi/cUjieVW7IgQ/0.jpg)](https://www.youtube.com/watch?v=cUjieVW7IgQ \"Programming Paradigms 101\")\n",
    "\n",
    "Python supports multiple paradigms, including object-oriented and functional programming."
   ]
  },
  {
   "cell_type": "code",
   "execution_count": 1,
   "metadata": {
    "scrolled": true
   },
   "outputs": [
    {
     "name": "stdout",
     "output_type": "stream",
     "text": [
      "Solution via imperative programming.\n",
      "10 9 8 7 6 5 4 3 2 1 \n",
      "Solution via functional programming (recursion).\n",
      "10 9 8 7 6 5 4 3 2 1\n"
     ]
    },
    {
     "data": {
      "text/plain": [
       "10"
      ]
     },
     "execution_count": 1,
     "metadata": {},
     "output_type": "execute_result"
    }
   ],
   "source": [
    "# Problem: Given integer n, do a countdown from n to 1. \n",
    "\n",
    "def print_imperative(n):\n",
    "    for i in reversed(range(1, n+1)):\n",
    "        print(i, end = ' ')\n",
    "    print('')\n",
    "\n",
    "def print_recursively(n):\n",
    "    if n == 1:\n",
    "        print(1)\n",
    "        return 1\n",
    "    else:\n",
    "        print(n, end = ' ')\n",
    "        return 1 + print_recursively(n-1)\n",
    "    \n",
    "        \n",
    "print('Solution via imperative programming.')\n",
    "print_imperative(10)\n",
    "\n",
    "print('Solution via functional programming (recursion).')\n",
    "print_recursively(10)"
   ]
  },
  {
   "cell_type": "code",
   "execution_count": 2,
   "metadata": {},
   "outputs": [
    {
     "name": "stdout",
     "output_type": "stream",
     "text": [
      "Using imperative programming: 15\n",
      "Using functional programming: 15\n"
     ]
    }
   ],
   "source": [
    "# Problem: given an integer n,\n",
    "# create a function that would return \n",
    "# the sum of all numbers from 1 to n\n",
    "#\n",
    "# e.g. n = 5\n",
    "# return 1 + 2 + 3 + 4 + 5 = 15\n",
    "\n",
    "# Imperative:\n",
    "def sum_imperative(n):\n",
    "    return sum(range(1, n+1))\n",
    "\n",
    "# Functional programming (Lambda notation):\n",
    "sum_functional = lambda x: sum(range(1, x+1))\n",
    "\n",
    "sum1 = sum_imperative(5)\n",
    "\n",
    "sum2 = sum_functional(5)\n",
    "\n",
    "print('Using imperative programming:', sum1)\n",
    "print('Using functional programming:', sum2)"
   ]
  },
  {
   "cell_type": "markdown",
   "metadata": {},
   "source": [
    "## Python is Dynamically-Typed\n",
    "\n",
    "**Repercussions:**\n",
    "\n",
    "With Python, you don't have to concern yourself with declaring variables.\n",
    "\n",
    "```vbscript\n",
    "Option Explicit\n",
    "\n",
    "Dim thisNumber As Integer\n",
    "Dim myThing As Variant\n",
    "ReDim myThing(1 To 5, 1 To 2)\n",
    "```\n",
    "\n",
    "More flexibility in passing arguments to a function.\n",
    "\n",
    "```python\n",
    "def pass_me_anything(anything)\n",
    "    ...\n",
    "```\n",
    "\n",
    "\n",
    "No errors until explicitly raised."
   ]
  },
  {
   "cell_type": "code",
   "execution_count": 3,
   "metadata": {},
   "outputs": [
    {
     "name": "stdout",
     "output_type": "stream",
     "text": [
      "But it doesn't matter so long as we don't call it.\n",
      "The function was indeed created but not called.\n",
      "<function this_func_will_raise_type_error at 0x0000022B47789670>\n"
     ]
    }
   ],
   "source": [
    "def this_func_will_raise_type_error():\n",
    "    return 'Hello World' + 1\n",
    "\n",
    "print(\"But it doesn't matter so long as we don't call it.\")\n",
    "print('The function was indeed created but not called.')\n",
    "print(this_func_will_raise_type_error)"
   ]
  },
  {
   "cell_type": "markdown",
   "metadata": {},
   "source": [
    "## More Python Runtime Magic\n",
    "\n",
    "Everything in Python is an object. :)"
   ]
  },
  {
   "cell_type": "code",
   "execution_count": 4,
   "metadata": {},
   "outputs": [
    {
     "name": "stdout",
     "output_type": "stream",
     "text": [
      "When Mercury is in retrograde, a and b are evaluated as:\n",
      "7\n",
      "Otherwise, a and b are evaluated as:\n",
      "12\n"
     ]
    }
   ],
   "source": [
    "def function_factory(is_retrograde):\n",
    "    if is_retrograde:\n",
    "        def my_dynamic_function(x, y):\n",
    "            return x + y\n",
    "    else:\n",
    "        def my_dynamic_function(x,y):\n",
    "            return x * y\n",
    "    return my_dynamic_function\n",
    "\n",
    "mercury_in_retrograde = function_factory(True)\n",
    "\n",
    "normal_days = function_factory(False)\n",
    "\n",
    "a = 3\n",
    "b = 4\n",
    "\n",
    "print('When Mercury is in retrograde, a and b are evaluated as:')\n",
    "print(mercury_in_retrograde(a,b))\n",
    "\n",
    "print('Otherwise, a and b are evaluated as:')\n",
    "print(normal_days(a,b))"
   ]
  },
  {
   "cell_type": "markdown",
   "metadata": {},
   "source": [
    "**Decorators** &mdash; sample use cases include: adding custom timers and error handling."
   ]
  },
  {
   "cell_type": "code",
   "execution_count": 5,
   "metadata": {},
   "outputs": [],
   "source": [
    "def my_decorator(custom_function):    \n",
    "    def inner(n):\n",
    "        print(f'Function {custom_function.__name__} started.')\n",
    "        result = custom_function(n)\n",
    "        print(f'The result of the function is {result}.')\n",
    "        print(f'Function {custom_function.__name__} ended.')\n",
    "        return result\n",
    "    return inner"
   ]
  },
  {
   "cell_type": "code",
   "execution_count": 6,
   "metadata": {},
   "outputs": [],
   "source": [
    "def add_one(n):\n",
    "    return n + 1\n",
    "\n",
    "def add_two(n):\n",
    "    return n + 2"
   ]
  },
  {
   "cell_type": "code",
   "execution_count": 7,
   "metadata": {},
   "outputs": [
    {
     "name": "stdout",
     "output_type": "stream",
     "text": [
      "Function add_one started.\n",
      "The result of the function is 7.\n",
      "Function add_one ended.\n",
      "Function add_two started.\n",
      "The result of the function is 8.\n",
      "Function add_two ended.\n"
     ]
    },
    {
     "data": {
      "text/plain": [
       "8"
      ]
     },
     "execution_count": 7,
     "metadata": {},
     "output_type": "execute_result"
    }
   ],
   "source": [
    "add_one = my_decorator(add_one)\n",
    "add_two = my_decorator(add_two)\n",
    "\n",
    "add_one(6)\n",
    "add_two(6)"
   ]
  },
  {
   "cell_type": "code",
   "execution_count": 8,
   "metadata": {},
   "outputs": [],
   "source": [
    "@my_decorator\n",
    "def add_three(n):\n",
    "    return n + 3"
   ]
  },
  {
   "cell_type": "code",
   "execution_count": 9,
   "metadata": {},
   "outputs": [
    {
     "name": "stdout",
     "output_type": "stream",
     "text": [
      "Function add_three started.\n",
      "The result of the function is 9.\n",
      "Function add_three ended.\n",
      "9\n"
     ]
    }
   ],
   "source": [
    "nine = add_three(6)\n",
    "print(nine)"
   ]
  },
  {
   "cell_type": "markdown",
   "metadata": {},
   "source": [
    "# The Python Community\n",
    "\n",
    "Here's a glossary of frequently used terms within the Python Community.\n",
    "\n",
    "- **Python Enhancement Proposal (PEP)** - \"A PEP is a design document providing information to the Python community, or describing a new feature for Python or its processes or environment. The PEP should provide a concise technical specification of the feature and a rationale for the feature.\" All events and changes in Python are done via PEP. For instance, PEP 0 is a list of all PEPs. PEP 1 contains the definition, purpose and guidelines for writing PEPs.\n",
    "\n",
    "    Some Notable PEPs include:\n",
    "    \n",
    "    - PEP 8 &mdash; The Style Guide for Python Code\n",
    "    - PEP 20 &mdash; The Zen of Python\n",
    "    - PEP 572 &mdash; Assignment Operator\n",
    "\n",
    "\n",
    "- **Benevolent Dictator for Life** - Guido van Rossum. Guido stepped down as the BDFL in 2018. His role was then replaced by the Python Steering Council.\n",
    "\n",
    "- **Python Steering Council** - According to PEP 8016, \"The steering council shall work to:\n",
    "    - Maintain the quality and stability of the Python language and CPython interpreter,\n",
    "    - Make contributing as accessible, inclusive, and sustainable as possible,\n",
    "    - Formalize and maintain the relationship between the core team and the PSF,\n",
    "    - Establish appropriate decision-making processes for PEPs,\n",
    "    - Seek consensus among contributors and the core team before acting in a formal capacity,\n",
    "    - Act as a \"court of final appeal\" for decisions where all other methods have failed.\"\n",
    "- **Python Core Developer** - they are the developers with commit access for the CPython project on GitHub.\n",
    "- **Python Software Foundation** - \"The mission of the Python Software Foundation is to promote, protect, and advance the Python programming language, and to support and facilitate the growth of a diverse and international community of Python programmers.\"\n",
    "- **PyCon** - Python conferences officially recognized by the PSF.\n",
    "\n",
    "---\n",
    "\n",
    "- **PyData** - Python conferences officially sponsored by NumFOCUS. PyData conferences focus on data science topics.\n",
    "- **NumFOCUS** - Numerical Foundation for Open Code and Useable Science. NumFOCUS is the main sponsor for open-source projects such as Jupyter Notebooks, numpy, pandas, and the Julia programming language.\n",
    "- **SciPy** - a Python-based ecosystem of open-source software for mathematics, science, and engineering. In particular, these are some of the core packages: NumPy, pandas, matplotlib, IPython\n"
   ]
  },
  {
   "cell_type": "markdown",
   "metadata": {},
   "source": [
    "# Code Organization: Creating Your Own Modules\n",
    "\n",
    "From the [documentation](https://docs.python.org/3/reference/import.html):\n",
    "\n",
    "For example, the following file system layout defines a top level `parent` package with three subpackages:\n",
    "\n",
    "    parent/\n",
    "        __init__.py\n",
    "        one/\n",
    "            __init__.py\n",
    "        two/\n",
    "            __init__.py\n",
    "        three/\n",
    "            __init__.py\n",
    "\n",
    "Importing `parent.one` will implicitly execute `parent/__init__.py` and `parent/one/__init__.py`. Subsequent imports of `parent.two` or `parent.three` will execute `parent/two/__init__.py` and `parent/three/__init__.py` respectively."
   ]
  },
  {
   "cell_type": "markdown",
   "metadata": {},
   "source": [
    "# Beyond PEP 8: How to make your code look like a Python Code"
   ]
  },
  {
   "cell_type": "markdown",
   "metadata": {},
   "source": [
    "## PEP 8 &mdash; the Style Guide for Python Code\n",
    "\n",
    "A website which has formatted version of PEP 8: [pep8.org](https://pep8.org/)."
   ]
  },
  {
   "cell_type": "markdown",
   "metadata": {},
   "source": [
    "## Clean Code\n",
    "\n",
    "Robert C. Martin, popularly known in the field of software development as *Uncle Bob*, is known for two things: SOLID principles and Clean Code.\n",
    "\n",
    "[![](http://img.youtube.com/vi/Wibk0IfjfaI/0.jpg)](https://www.youtube.com/watch?v=Wibk0IfjfaI \"Clean Code with Uncle Bob\")\n",
    "\n",
    "**SOLID Principles**:\n",
    "- The Single-responsibility principle\n",
    "- The Open–closed principle\n",
    "- The Liskov substitution principle\n",
    "- The Interface segregation principle\n",
    "- The Dependency inversion principle\n",
    "\n",
    "**Clean Code Trilogy**:\n",
    "- Clean Code\n",
    "- Clean Coder\n",
    "- Clean Architecture"
   ]
  },
  {
   "cell_type": "markdown",
   "metadata": {},
   "source": [
    "## Idioms\n",
    "\n",
    "Each programming language has their own way of doing things. Python is no different. Take the earlier example:\n",
    "\n",
    "\n",
    "Looping in C++\n",
    "\n",
    "```c++\n",
    "#include <iostream>\n",
    "\n",
    "int main()\n",
    "{\n",
    "    for(int i = 1; i <= 10; i++) {\n",
    "        std::cout << i;\n",
    "    }\n",
    " \n",
    "    return 0;\n",
    "}\n",
    "```\n",
    "\n",
    "Looping in Python:\n",
    "\n",
    "```python\n",
    "for i in range(1, 11):\n",
    "    print(i)\n",
    "```\n"
   ]
  },
  {
   "cell_type": "markdown",
   "metadata": {},
   "source": [
    "### List Comprehension"
   ]
  },
  {
   "cell_type": "code",
   "execution_count": 10,
   "metadata": {},
   "outputs": [],
   "source": [
    "from random import choice"
   ]
  },
  {
   "cell_type": "code",
   "execution_count": 11,
   "metadata": {},
   "outputs": [
    {
     "name": "stdout",
     "output_type": "stream",
     "text": [
      "Wall time: 9.99 ms\n"
     ]
    }
   ],
   "source": [
    "%%time\n",
    "\n",
    "# List Comprehension\n",
    "items = [choice(['foo', 'bar', 'baz']) for _ in range(10_000)]"
   ]
  },
  {
   "cell_type": "code",
   "execution_count": 12,
   "metadata": {
    "scrolled": true
   },
   "outputs": [
    {
     "name": "stdout",
     "output_type": "stream",
     "text": [
      "Wall time: 12 ms\n"
     ]
    }
   ],
   "source": [
    "%%time\n",
    "\n",
    "items_loop = []\n",
    "for i in range(10_000):\n",
    "    item = choice(['foo', 'bar', 'baz'])\n",
    "    items_loop.append(item)"
   ]
  },
  {
   "cell_type": "markdown",
   "metadata": {},
   "source": [
    "### Looping through an iterable"
   ]
  },
  {
   "cell_type": "code",
   "execution_count": 13,
   "metadata": {},
   "outputs": [
    {
     "name": "stdout",
     "output_type": "stream",
     "text": [
      "foo, foo, bar, bar, bar, bar, baz, baz, foo, bar, bar, bar, foo, foo, baz, baz, bar, foo, baz, baz, bar, bar, bar, baz, bar, foo, bar, bar, baz, bar, foo, foo, foo, bar, baz, baz, bar, baz, baz, baz, baz, baz, bar, bar, baz, foo, bar, foo, foo, bar, foo, baz, baz, baz, baz, bar, bar, baz, bar, baz, foo, baz, foo, bar, baz, foo, foo, bar, baz, baz, bar, foo, bar, foo, bar, bar, bar, baz, bar, foo, baz, baz, bar, baz, foo, bar, foo, foo, foo, baz, bar, foo, bar, bar, baz, foo, bar, foo, baz, bar, baz, baz, foo, bar, bar, baz, bar, bar, baz, bar, baz, baz, baz, baz, foo, foo, foo, foo, foo, foo, baz, foo, baz, bar, bar, bar, foo, baz, baz, baz, baz, bar, foo, baz, baz, foo, bar, bar, foo, baz, foo, bar, bar, bar, bar, foo, baz, foo, bar, bar, bar, bar, baz, foo, bar, foo, foo, foo, bar, foo, foo, foo, foo, bar, bar, foo, baz, bar, baz, baz, baz, foo, baz, baz, bar, bar, baz, baz, bar, foo, bar, baz, baz, bar, bar, baz, bar, baz, baz, bar, bar, baz, bar, baz, bar, baz, foo, baz, baz, foo, foo, bar, bar, foo, bar, bar, foo, bar, foo, foo, bar, bar, baz, bar, baz, bar, bar, foo, bar, baz, foo, bar, baz, bar, bar, bar, foo, baz, foo, baz, foo, baz, bar, baz, baz, baz, bar, foo, bar, foo, foo, bar, foo, foo, bar, foo, baz, baz, bar, baz, bar, foo, bar, baz, baz, bar, bar, foo, foo, bar, baz, foo, bar, baz, bar, foo, bar, baz, foo, foo, foo, bar, baz, foo, bar, bar, baz, foo, baz, bar, bar, bar, baz, foo, foo, bar, foo, baz, foo, foo, bar, foo, baz, bar, bar, foo, baz, baz, baz, baz, baz, foo, foo, baz, bar, baz, baz, bar, bar, bar, foo, foo, baz, foo, foo, bar, foo, baz, baz, foo, bar, baz, baz, bar, baz, bar, baz, bar, foo, bar, foo, bar, baz, bar, foo, bar, bar, foo, baz, bar, baz, bar, foo, bar, bar, baz, baz, bar, foo, bar, bar, baz, baz, foo, bar, foo, baz, foo, foo, bar, bar, foo, baz, bar, bar, foo, bar, baz, foo, bar, foo, bar, baz, foo, bar, bar, baz, bar, baz, foo, foo, bar, baz, bar, bar, baz, bar, baz, foo, bar, bar, foo, baz, bar, bar, bar, foo, baz, bar, baz, baz, foo, bar, foo, bar, foo, baz, baz, bar, baz, foo, baz, bar, baz, bar, foo, foo, baz, foo, bar, foo, bar, baz, foo, foo, bar, bar, baz, foo, bar, bar, baz, bar, bar, foo, bar, baz, baz, baz, bar, bar, bar, bar, foo, bar, bar, baz, foo, bar, foo, baz, baz, baz, baz, foo, baz, foo, bar, foo, foo, foo, bar, bar, bar, foo, bar, baz, bar, baz, bar, baz, foo, bar, baz, baz, foo, baz, baz, baz, foo, foo, bar, baz, foo, foo, foo, foo, foo, baz, bar, foo, foo, bar, foo, bar, foo, foo, foo, bar, baz, baz, baz, foo, foo, foo, bar, bar, foo, bar, bar, foo, foo, bar, baz, baz, foo, bar, foo, foo, foo, foo, baz, bar, baz, foo, bar, bar, foo, foo, bar, baz, bar, baz, bar, baz, foo, foo, foo, foo, baz, baz, foo, bar, baz, bar, baz, foo, baz, foo, foo, bar, baz, baz, foo, bar, baz, baz, baz, bar, foo, foo, foo, foo, bar, bar, bar, bar, bar, baz, baz, bar, bar, baz, baz, bar, bar, bar, bar, bar, baz, baz, foo, bar, baz, bar, baz, foo, bar, foo, foo, bar, bar, foo, baz, bar, bar, baz, foo, foo, bar, bar, foo, bar, foo, foo, foo, foo, baz, baz, bar, foo, bar, foo, bar, baz, baz, bar, baz, foo, baz, baz, foo, baz, bar, foo, baz, bar, baz, baz, bar, baz, baz, foo, foo, foo, foo, baz, baz, foo, foo, bar, bar, foo, bar, foo, baz, baz, foo, foo, foo, foo, foo, foo, bar, foo, foo, foo, baz, bar, baz, baz, baz, baz, baz, baz, bar, foo, foo, foo, foo, bar, baz, baz, bar, bar, baz, bar, bar, bar, foo, foo, foo, baz, baz, baz, baz, bar, bar, bar, bar, bar, bar, bar, bar, baz, foo, baz, foo, foo, foo, foo, bar, baz, baz, baz, bar, baz, baz, foo, foo, bar, bar, foo, bar, foo, bar, baz, baz, baz, bar, baz, foo, foo, baz, foo, foo, foo, bar, foo, baz, bar, bar, baz, bar, bar, foo, bar, baz, baz, foo, bar, baz, foo, baz, foo, baz, bar, foo, baz, bar, bar, bar, bar, bar, foo, bar, baz, baz, foo, baz, foo, bar, bar, bar, foo, baz, bar, bar, baz, baz, bar, bar, foo, bar, foo, baz, foo, foo, bar, bar, bar, baz, foo, baz, baz, foo, foo, bar, baz, baz, foo, baz, bar, foo, foo, foo, foo, foo, baz, baz, baz, foo, foo, baz, bar, bar, bar, foo, bar, baz, foo, foo, bar, bar, baz, bar, baz, foo, baz, baz, foo, bar, foo, baz, bar, foo, bar, baz, bar, foo, bar, baz, bar, baz, bar, bar, baz, foo, baz, bar, baz, foo, baz, bar, foo, foo, baz, foo, baz, baz, bar, baz, foo, bar, foo, baz, foo, foo, bar, baz, bar, baz, bar, foo, bar, bar, bar, foo, bar, foo, baz, baz, bar, baz, bar, foo, baz, baz, foo, foo, baz, foo, bar, bar, baz, baz, baz, foo, foo, bar, baz, bar, bar, baz, bar, baz, foo, baz, foo, bar, foo, bar, baz, foo, foo, bar, foo, baz, foo, bar, baz, baz, foo, foo, baz, baz, bar, bar, foo, bar, baz, bar, baz, baz, baz, bar, bar, baz, bar, baz, baz, baz, bar, baz, foo, foo, baz, bar, bar, foo, baz, bar, foo, baz, baz, foo, baz, foo, foo, baz, baz, baz, baz, bar, foo, foo, foo, bar, bar, foo, foo, baz, bar, foo, foo, bar, foo, foo, foo, foo, foo, baz, baz, bar, foo, baz, foo, foo, bar, foo, baz, foo, bar, foo, foo, bar, foo, baz, bar, bar, foo, foo, bar, bar, foo, bar, baz, foo, baz, foo, foo, baz, baz, foo, bar, foo, foo, bar, baz, foo, baz, bar, baz, bar, foo, baz, baz, bar, baz, baz, foo, bar, foo, bar, bar, baz, baz, foo, bar, bar, baz, bar, baz, bar, bar, foo, foo, baz, bar, foo, bar, bar, baz, baz, baz, baz, foo, baz, bar, foo, baz, baz, foo, bar, baz, bar, baz, baz, bar, baz, bar, bar, bar, foo, foo, foo, bar, foo, baz, bar, baz, foo, bar, foo, bar, baz, foo, foo, baz, foo, bar, baz, bar, bar, baz, baz, baz, bar, bar, foo, baz, baz, bar, foo, bar, baz, baz, bar, foo, foo, baz, foo, baz, bar, bar, baz, foo, bar, foo, bar, baz, bar, baz, foo, bar, baz, bar, baz, foo, bar, bar, bar, foo, foo, baz, foo, baz, baz, foo, baz, bar, baz, baz, bar, bar, bar, bar, baz, foo, foo, bar, baz, foo, baz, foo, bar, baz, bar, foo, baz, baz, foo, foo, foo, bar, foo, foo, foo, baz, foo, baz, bar, baz, bar, baz, baz, bar, foo, baz, bar, foo, baz, foo, bar, baz, bar, baz, baz, foo, foo, foo, baz, baz, baz, foo, foo, bar, baz, foo, bar, foo, bar, bar, baz, baz, foo, foo, foo, baz, bar, bar, bar, bar, foo, foo, bar, baz, bar, baz, foo, baz, foo, baz, baz, baz, baz, foo, bar, baz, bar, bar, foo, baz, foo, foo, foo, baz, baz, foo, baz, bar, foo, bar, bar, bar, bar, foo, baz, foo, baz, bar, foo, bar, foo, bar, baz, foo, baz, foo, foo, bar, bar, bar, bar, bar, bar, foo, foo, baz, foo, bar, foo, foo, foo, baz, bar, bar, foo, foo, bar, bar, bar, bar, bar, baz, bar, foo, baz, foo, bar, baz, baz, foo, baz, bar, foo, bar, baz, baz, bar, foo, bar, bar, baz, bar, baz, baz, baz, foo, foo, baz, baz, foo, bar, bar, foo, baz, baz, baz, foo, bar, bar, bar, baz, foo, bar, baz, bar, bar, baz, bar, foo, foo, baz, foo, baz, foo, baz, baz, bar, baz, baz, foo, baz, baz, bar, foo, baz, bar, baz, foo, foo, baz, foo, baz, foo, foo, baz, baz, foo, foo, foo, baz, baz, baz, baz, baz, baz, bar, baz, baz, baz, foo, foo, foo, bar, bar, foo, baz, bar, baz, foo, bar, foo, bar, foo, bar, bar, bar, baz, bar, bar, bar, baz, bar, foo, foo, baz, foo, baz, baz, baz, bar, foo, baz, bar, baz, foo, bar, baz, baz, foo, baz, foo, bar, foo, bar, baz, foo, foo, foo, bar, foo, baz, baz, bar, bar, foo, foo, foo, bar, foo, foo, foo, bar, bar, bar, bar, bar, baz, bar, bar, baz, foo, foo, bar, baz, foo, bar, foo, bar, foo, foo, bar, baz, baz, baz, baz, bar, foo, baz, bar, foo, baz, bar, baz, baz, baz, foo, bar, baz, baz, bar, baz, baz, bar, bar, foo, foo, baz, baz, baz, bar, foo, baz, baz, baz, foo, foo, baz, baz, foo, baz, baz, bar, baz, bar, baz, bar, baz, bar, foo, bar, baz, baz, bar, bar, bar, foo, foo, bar, baz, baz, bar, foo, bar, bar, baz, baz, bar, bar, foo, baz, baz, foo, baz, foo, baz, baz, baz, baz, foo, baz, bar, bar, bar, foo, foo, baz, bar, baz, baz, foo, bar, baz, bar, baz, baz, foo, bar, baz, bar, bar, baz, foo, bar, baz, bar, bar, baz, bar, bar, bar, baz, baz, foo, baz, bar, baz, bar, baz, bar, baz, baz, baz, foo, foo, bar, foo, bar, foo, bar, foo, foo, bar, bar, baz, baz, baz, baz, baz, baz, foo, foo, bar, baz, bar, foo, foo, foo, baz, baz, bar, foo, baz, baz, baz, foo, baz, bar, baz, foo, foo, bar, bar, baz, foo, bar, baz, foo, baz, foo, foo, bar, foo, foo, baz, bar, foo, baz, baz, baz, bar, foo, bar, baz, bar, foo, baz, baz, foo, baz, foo, foo, baz, baz, foo, baz, bar, foo, foo, bar, foo, bar, baz, baz, bar, baz, baz, bar, foo, bar, bar, baz, foo, bar, bar, baz, foo, foo, bar, bar, bar, bar, foo, bar, bar, bar, baz, baz, bar, bar, foo, baz, bar, bar, baz, baz, foo, bar, baz, foo, foo, foo, bar, bar, baz, bar, baz, baz, baz, bar, baz, foo, bar, bar, bar, baz, foo, baz, foo, foo, baz, foo, foo, foo, baz, baz, baz, bar, bar, baz, baz, foo, bar, bar, foo, baz, foo, foo, baz, bar, bar, foo, foo, foo, bar, baz, bar, foo, bar, baz, foo, foo, foo, foo, baz, bar, foo, baz, baz, baz, bar, foo, baz, foo, bar, bar, bar, bar, baz, baz, foo, bar, bar, bar, foo, foo, baz, foo, bar, bar, foo, foo, baz, foo, foo, baz, bar, foo, bar, baz, bar, foo, foo, foo, bar, foo, bar, baz, bar, bar, baz, bar, foo, bar, baz, foo, foo, foo, foo, baz, bar, baz, baz, bar, baz, bar, foo, bar, bar, baz, foo, bar, baz, foo, baz, foo, bar, baz, baz, baz, bar, baz, foo, foo, foo, bar, bar, bar, bar, bar, baz, foo, foo, foo, baz, foo, foo, bar, baz, foo, foo, baz, bar, baz, bar, baz, baz, baz, foo, baz, foo, foo, baz, foo, baz, foo, baz, bar, baz, foo, bar, bar, foo, foo, baz, baz, baz, baz, bar, bar, foo, bar, bar, baz, "
     ]
    },
    {
     "name": "stdout",
     "output_type": "stream",
     "text": [
      "baz, bar, foo, bar, bar, bar, bar, foo, baz, baz, foo, foo, baz, foo, baz, foo, bar, baz, foo, foo, baz, bar, bar, foo, foo, bar, baz, baz, foo, baz, foo, bar, bar, baz, foo, baz, foo, foo, foo, foo, baz, bar, baz, baz, baz, baz, foo, baz, baz, bar, bar, baz, bar, foo, foo, baz, bar, bar, foo, bar, foo, baz, baz, bar, baz, baz, baz, bar, foo, baz, baz, bar, foo, foo, baz, bar, bar, foo, bar, baz, baz, foo, bar, foo, foo, foo, foo, foo, foo, baz, baz, foo, baz, baz, foo, baz, baz, baz, bar, bar, baz, bar, baz, baz, baz, bar, foo, bar, foo, baz, baz, foo, baz, foo, foo, bar, baz, baz, foo, baz, baz, foo, foo, bar, bar, baz, foo, bar, bar, bar, foo, baz, baz, foo, foo, foo, bar, baz, foo, foo, bar, bar, bar, foo, foo, baz, bar, baz, foo, baz, baz, baz, foo, baz, bar, baz, baz, bar, bar, foo, bar, foo, bar, bar, foo, foo, bar, bar, foo, bar, baz, bar, foo, bar, foo, baz, bar, foo, baz, bar, foo, baz, foo, foo, baz, bar, bar, baz, baz, baz, baz, baz, baz, foo, foo, baz, foo, foo, baz, foo, bar, bar, bar, foo, foo, baz, baz, bar, baz, baz, bar, foo, baz, foo, foo, bar, foo, bar, foo, bar, foo, bar, baz, baz, bar, bar, bar, foo, bar, bar, bar, foo, bar, bar, baz, baz, foo, foo, baz, baz, bar, foo, baz, foo, bar, baz, baz, baz, bar, bar, bar, baz, bar, foo, foo, foo, foo, foo, bar, baz, foo, bar, foo, bar, foo, baz, baz, baz, bar, foo, foo, bar, bar, baz, bar, baz, foo, bar, bar, foo, foo, baz, baz, bar, foo, baz, bar, baz, baz, foo, baz, bar, bar, baz, baz, foo, foo, baz, baz, baz, foo, foo, baz, baz, bar, bar, bar, baz, baz, bar, foo, foo, baz, foo, foo, baz, baz, bar, foo, baz, baz, bar, bar, foo, baz, foo, baz, foo, bar, foo, baz, bar, foo, foo, foo, foo, foo, foo, bar, foo, baz, baz, bar, foo, foo, baz, foo, baz, baz, foo, baz, bar, foo, foo, foo, foo, baz, foo, foo, foo, baz, baz, bar, bar, bar, baz, baz, baz, foo, baz, bar, foo, baz, foo, bar, baz, bar, foo, foo, baz, bar, foo, baz, bar, baz, bar, foo, foo, foo, baz, bar, bar, baz, foo, baz, bar, bar, baz, bar, bar, foo, bar, baz, bar, foo, baz, bar, foo, baz, foo, bar, baz, baz, baz, baz, baz, bar, baz, foo, baz, bar, bar, foo, bar, bar, foo, baz, baz, bar, baz, foo, baz, foo, bar, bar, foo, baz, baz, baz, baz, baz, foo, bar, bar, bar, foo, foo, bar, baz, foo, foo, baz, baz, bar, baz, baz, foo, baz, foo, bar, baz, baz, foo, foo, foo, foo, baz, foo, bar, foo, bar, bar, bar, foo, foo, bar, baz, baz, bar, foo, bar, baz, bar, bar, bar, baz, bar, baz, foo, bar, bar, baz, foo, foo, baz, baz, bar, foo, foo, foo, baz, foo, foo, baz, foo, foo, baz, baz, bar, bar, baz, foo, bar, baz, bar, foo, bar, baz, baz, baz, foo, foo, baz, bar, bar, baz, foo, bar, baz, bar, foo, foo, bar, bar, foo, bar, baz, foo, baz, baz, foo, foo, foo, baz, foo, baz, bar, foo, baz, bar, bar, foo, bar, foo, bar, baz, baz, bar, baz, bar, foo, baz, baz, bar, foo, foo, bar, bar, bar, foo, bar, baz, baz, baz, baz, foo, foo, bar, foo, foo, bar, baz, baz, foo, bar, foo, bar, foo, bar, baz, foo, bar, baz, baz, foo, bar, foo, bar, foo, bar, foo, bar, foo, bar, foo, baz, baz, baz, foo, baz, bar, baz, baz, foo, bar, foo, bar, foo, baz, foo, bar, foo, baz, baz, baz, foo, bar, foo, bar, foo, foo, bar, baz, bar, foo, baz, foo, baz, baz, bar, baz, foo, baz, baz, foo, baz, bar, baz, foo, baz, bar, bar, baz, foo, bar, bar, bar, foo, foo, foo, baz, foo, foo, bar, baz, baz, bar, bar, baz, baz, foo, baz, bar, foo, bar, foo, foo, bar, foo, foo, baz, foo, baz, baz, baz, foo, bar, baz, baz, bar, baz, foo, foo, baz, baz, foo, baz, foo, baz, bar, bar, foo, bar, bar, baz, baz, bar, baz, baz, baz, foo, bar, baz, foo, baz, foo, baz, baz, foo, baz, bar, bar, baz, foo, baz, foo, foo, baz, foo, bar, baz, baz, foo, bar, foo, foo, foo, foo, foo, foo, baz, foo, foo, bar, foo, bar, baz, bar, baz, baz, foo, baz, foo, foo, bar, baz, bar, baz, foo, foo, foo, bar, bar, foo, bar, foo, baz, foo, foo, baz, bar, baz, baz, baz, baz, bar, foo, bar, baz, baz, baz, bar, bar, baz, baz, bar, bar, foo, bar, foo, bar, foo, baz, baz, bar, baz, baz, bar, foo, bar, baz, bar, bar, foo, foo, foo, baz, baz, bar, baz, baz, baz, baz, baz, bar, foo, bar, foo, baz, bar, bar, bar, foo, bar, bar, bar, foo, foo, baz, baz, bar, foo, bar, bar, bar, foo, bar, baz, foo, baz, foo, foo, baz, foo, bar, foo, baz, bar, baz, baz, bar, foo, bar, foo, bar, foo, foo, baz, bar, foo, bar, baz, baz, baz, foo, bar, baz, baz, baz, bar, foo, foo, foo, bar, bar, foo, foo, foo, bar, foo, baz, foo, foo, foo, foo, bar, bar, foo, foo, baz, bar, bar, bar, baz, foo, bar, baz, foo, foo, foo, bar, bar, bar, baz, foo, bar, bar, bar, baz, bar, baz, baz, bar, bar, foo, baz, bar, bar, baz, foo, baz, foo, baz, baz, foo, baz, baz, baz, foo, foo, baz, bar, bar, baz, baz, foo, baz, bar, bar, baz, foo, foo, baz, baz, foo, bar, bar, bar, bar, bar, foo, baz, bar, bar, bar, baz, foo, bar, foo, bar, bar, foo, foo, bar, bar, bar, bar, foo, bar, foo, baz, foo, baz, foo, bar, baz, foo, foo, foo, bar, baz, baz, bar, foo, baz, foo, foo, bar, baz, bar, bar, foo, baz, foo, bar, baz, baz, bar, foo, bar, foo, baz, baz, bar, baz, baz, bar, foo, baz, foo, foo, baz, baz, baz, foo, bar, baz, bar, foo, baz, baz, foo, foo, bar, bar, baz, baz, foo, bar, foo, foo, foo, baz, bar, bar, bar, baz, bar, foo, bar, foo, foo, baz, bar, baz, foo, foo, bar, baz, bar, foo, baz, baz, bar, foo, bar, baz, bar, baz, baz, foo, foo, bar, foo, bar, baz, foo, foo, bar, bar, baz, bar, baz, foo, foo, bar, baz, foo, baz, foo, foo, baz, baz, baz, baz, foo, bar, foo, foo, baz, foo, foo, baz, baz, foo, baz, foo, baz, baz, bar, baz, bar, bar, foo, bar, bar, foo, bar, bar, bar, baz, foo, foo, baz, foo, bar, foo, baz, bar, foo, foo, foo, foo, bar, bar, foo, baz, baz, baz, bar, baz, bar, bar, baz, baz, baz, foo, bar, foo, baz, baz, bar, foo, bar, bar, foo, baz, baz, foo, baz, foo, baz, baz, foo, bar, baz, bar, bar, foo, baz, bar, baz, bar, bar, bar, foo, foo, bar, bar, bar, bar, foo, foo, foo, bar, foo, foo, bar, baz, bar, foo, foo, foo, bar, foo, foo, foo, bar, baz, bar, bar, foo, baz, baz, baz, bar, bar, baz, foo, baz, baz, foo, baz, baz, baz, baz, baz, bar, baz, baz, foo, bar, foo, bar, bar, baz, bar, bar, baz, baz, baz, bar, foo, baz, bar, foo, baz, foo, bar, bar, baz, bar, bar, foo, foo, baz, bar, bar, bar, baz, bar, baz, baz, baz, bar, foo, baz, baz, baz, foo, baz, baz, bar, baz, foo, foo, bar, foo, bar, baz, baz, bar, bar, foo, foo, bar, bar, foo, baz, baz, baz, foo, foo, bar, bar, bar, baz, baz, bar, baz, baz, bar, foo, foo, bar, foo, bar, foo, foo, foo, baz, bar, foo, bar, bar, bar, bar, foo, foo, baz, foo, foo, bar, bar, bar, baz, bar, bar, baz, foo, baz, foo, bar, bar, baz, foo, foo, bar, foo, bar, bar, foo, baz, foo, bar, baz, bar, baz, foo, bar, baz, bar, foo, baz, foo, baz, baz, baz, bar, baz, foo, foo, baz, foo, foo, baz, baz, foo, bar, bar, bar, bar, baz, foo, foo, foo, bar, foo, foo, baz, bar, baz, bar, bar, baz, bar, baz, baz, bar, bar, baz, foo, bar, foo, baz, bar, bar, foo, baz, foo, bar, baz, bar, bar, baz, baz, bar, baz, bar, foo, baz, foo, foo, baz, bar, foo, baz, bar, bar, bar, baz, baz, bar, bar, bar, foo, bar, foo, bar, bar, bar, foo, foo, bar, baz, bar, bar, foo, bar, baz, bar, bar, foo, bar, bar, foo, bar, bar, baz, baz, bar, foo, baz, bar, foo, baz, bar, foo, bar, foo, bar, bar, foo, foo, baz, baz, bar, foo, baz, foo, bar, foo, foo, bar, foo, baz, baz, foo, foo, baz, baz, foo, bar, foo, foo, foo, foo, baz, bar, bar, baz, bar, bar, baz, bar, baz, foo, foo, baz, bar, bar, baz, foo, baz, baz, foo, baz, foo, baz, baz, baz, bar, baz, foo, foo, baz, bar, foo, foo, baz, baz, baz, foo, foo, baz, baz, baz, foo, foo, baz, baz, bar, foo, bar, foo, foo, baz, bar, baz, baz, foo, foo, bar, baz, foo, baz, bar, foo, bar, baz, baz, baz, baz, bar, foo, baz, baz, bar, baz, foo, baz, bar, foo, foo, baz, foo, bar, bar, bar, foo, bar, foo, bar, foo, bar, foo, bar, bar, foo, foo, bar, foo, baz, foo, baz, bar, baz, baz, foo, baz, foo, foo, baz, baz, bar, baz, bar, bar, foo, bar, bar, bar, baz, foo, baz, baz, foo, foo, bar, foo, baz, bar, foo, foo, baz, foo, bar, foo, bar, baz, bar, foo, bar, foo, baz, baz, foo, bar, baz, foo, bar, bar, foo, bar, bar, baz, foo, foo, bar, bar, bar, foo, bar, bar, bar, baz, baz, baz, foo, baz, baz, bar, foo, baz, baz, foo, bar, bar, bar, foo, bar, foo, baz, bar, baz, baz, baz, baz, bar, foo, baz, bar, bar, bar, baz, baz, bar, baz, bar, foo, baz, bar, bar, foo, foo, baz, bar, foo, baz, bar, bar, baz, foo, bar, baz, foo, baz, foo, foo, foo, foo, foo, baz, bar, bar, baz, baz, bar, bar, bar, baz, baz, bar, bar, bar, baz, baz, baz, foo, baz, foo, baz, foo, baz, baz, bar, foo, foo, baz, bar, baz, baz, foo, baz, baz, baz, baz, bar, bar, baz, baz, bar, foo, baz, baz, baz, foo, baz, bar, baz, bar, foo, foo, foo, foo, baz, baz, baz, foo, bar, foo, foo, foo, foo, foo, baz, bar, bar, bar, baz, baz, bar, foo, foo, baz, bar, bar, foo, baz, bar, bar, baz, foo, bar, baz, foo, baz, bar, bar, bar, baz, foo, baz, foo, bar, bar, foo, bar, foo, bar, bar, baz, foo, baz, baz, baz, bar, bar, foo, bar, bar, foo, baz, bar, foo, bar, bar, foo, bar, bar, bar, bar, bar, foo, bar, bar, foo, bar, foo, bar, bar, bar, bar, foo, bar, bar, foo, baz, foo, baz, bar, bar, baz, bar, bar, bar, bar, bar, bar, foo, bar, baz, baz, baz, bar, bar, bar, bar, baz, foo, baz, foo, baz, bar, bar, foo, bar, bar, foo, bar, bar, baz, foo, bar, foo, baz, foo, baz, foo, foo, bar, foo, foo, foo, bar, baz, foo, bar, baz, foo, baz, bar, baz, baz, baz, foo, baz, baz, baz, foo, bar, foo, bar, baz, baz, baz, foo, bar, baz, bar, foo, bar, bar, baz, baz, baz, baz, bar, baz, baz, baz, foo, foo, foo, baz, baz, bar, bar, baz, foo, foo, foo, foo, bar, bar, baz, bar, baz, baz, foo, baz, baz, foo, foo, bar, bar, baz, baz, baz, baz, bar, baz, baz, bar, foo, bar, bar, baz, bar, foo, bar, bar, bar, baz, baz, bar, foo, bar, baz, bar, foo, baz, baz, baz, baz, bar, bar, foo, foo, baz, foo, bar, bar, baz, baz, bar, foo, foo, bar, bar, foo, bar, baz, bar, bar, baz, foo, foo, bar, foo, bar, bar, foo, baz, bar, baz, bar, foo, foo, bar, foo, foo, bar, bar, bar, baz, baz, bar"
     ]
    },
    {
     "name": "stdout",
     "output_type": "stream",
     "text": [
      ", baz, baz, baz, bar, bar, baz, baz, bar, bar, bar, bar, bar, bar, bar, baz, bar, foo, bar, bar, bar, foo, baz, baz, bar, baz, foo, bar, baz, bar, baz, bar, foo, baz, foo, bar, foo, baz, baz, baz, bar, bar, baz, foo, foo, bar, baz, foo, bar, baz, bar, bar, foo, bar, baz, foo, foo, baz, baz, baz, bar, bar, bar, bar, foo, baz, bar, bar, baz, foo, baz, baz, foo, foo, bar, baz, foo, foo, baz, baz, baz, baz, foo, bar, foo, foo, foo, baz, bar, baz, baz, baz, foo, bar, baz, foo, baz, bar, foo, bar, bar, foo, foo, bar, foo, bar, bar, foo, baz, baz, foo, bar, foo, bar, baz, foo, baz, foo, foo, baz, baz, foo, baz, baz, baz, foo, foo, foo, foo, bar, baz, baz, bar, baz, foo, foo, foo, baz, baz, bar, baz, foo, baz, bar, foo, foo, foo, bar, bar, foo, baz, bar, foo, bar, bar, bar, foo, bar, foo, bar, foo, foo, foo, bar, baz, bar, baz, bar, bar, baz, bar, bar, baz, bar, bar, foo, foo, foo, foo, baz, baz, baz, foo, foo, baz, baz, foo, baz, bar, bar, foo, bar, foo, bar, foo, baz, baz, bar, baz, bar, foo, foo, foo, foo, bar, foo, bar, baz, baz, baz, bar, bar, foo, baz, bar, bar, baz, foo, foo, foo, bar, baz, baz, foo, baz, foo, foo, bar, bar, bar, bar, baz, bar, foo, baz, bar, baz, foo, baz, bar, baz, bar, baz, foo, bar, baz, bar, baz, bar, foo, foo, foo, baz, bar, bar, bar, foo, foo, foo, baz, bar, bar, bar, bar, baz, bar, baz, bar, foo, bar, bar, foo, baz, baz, baz, baz, baz, foo, foo, baz, baz, baz, baz, baz, foo, baz, bar, baz, baz, foo, foo, baz, bar, bar, foo, baz, bar, foo, foo, baz, baz, bar, bar, bar, bar, baz, baz, bar, foo, foo, baz, bar, foo, foo, foo, foo, foo, bar, foo, foo, foo, bar, baz, bar, baz, foo, baz, baz, foo, foo, baz, bar, foo, foo, baz, baz, bar, bar, baz, baz, foo, baz, foo, bar, baz, bar, foo, bar, bar, foo, foo, baz, baz, baz, bar, baz, baz, foo, foo, bar, bar, bar, foo, bar, baz, bar, bar, foo, foo, foo, foo, foo, bar, foo, baz, bar, baz, foo, bar, bar, bar, foo, baz, bar, bar, bar, bar, bar, bar, baz, baz, bar, foo, baz, baz, foo, baz, baz, baz, baz, bar, bar, baz, bar, baz, bar, baz, foo, baz, bar, bar, foo, foo, foo, bar, bar, foo, baz, bar, foo, bar, foo, foo, foo, baz, foo, bar, foo, foo, bar, foo, bar, foo, bar, foo, bar, bar, bar, foo, foo, baz, baz, bar, baz, foo, baz, bar, foo, bar, baz, baz, bar, baz, baz, baz, foo, baz, baz, baz, bar, baz, baz, foo, foo, bar, bar, baz, bar, baz, baz, foo, foo, bar, foo, baz, bar, bar, bar, baz, baz, foo, bar, baz, foo, baz, baz, foo, bar, bar, bar, bar, baz, baz, bar, foo, bar, foo, foo, bar, baz, baz, foo, foo, foo, bar, baz, baz, foo, foo, foo, bar, foo, bar, baz, foo, baz, bar, foo, bar, baz, foo, foo, bar, foo, bar, foo, baz, bar, baz, bar, foo, baz, bar, foo, baz, foo, foo, baz, foo, baz, baz, foo, bar, bar, baz, foo, bar, baz, foo, bar, baz, bar, baz, foo, baz, bar, bar, bar, bar, bar, baz, bar, foo, foo, bar, foo, baz, bar, baz, bar, bar, bar, baz, bar, bar, foo, foo, baz, bar, bar, bar, baz, bar, bar, baz, baz, baz, bar, foo, bar, bar, foo, baz, bar, bar, foo, foo, baz, foo, bar, foo, bar, foo, bar, foo, baz, foo, baz, bar, bar, bar, bar, baz, foo, foo, foo, baz, baz, bar, baz, baz, bar, bar, foo, foo, baz, foo, foo, bar, baz, bar, baz, baz, foo, baz, foo, foo, bar, bar, baz, bar, foo, foo, bar, foo, baz, baz, bar, bar, baz, bar, baz, baz, bar, baz, foo, foo, foo, bar, foo, foo, foo, baz, baz, bar, foo, baz, bar, bar, baz, baz, bar, foo, baz, foo, foo, baz, foo, baz, baz, foo, foo, baz, bar, baz, bar, baz, bar, bar, bar, baz, bar, bar, baz, foo, bar, foo, bar, foo, foo, foo, foo, bar, baz, bar, bar, bar, foo, baz, foo, foo, baz, baz, foo, bar, bar, baz, bar, foo, foo, foo, baz, baz, baz, foo, bar, foo, foo, foo, bar, bar, bar, baz, bar, foo, baz, bar, bar, foo, foo, bar, bar, foo, baz, bar, bar, bar, foo, bar, foo, bar, foo, baz, foo, foo, baz, foo, baz, baz, bar, bar, bar, bar, baz, baz, bar, foo, foo, bar, baz, foo, foo, bar, baz, baz, bar, bar, foo, foo, foo, foo, baz, foo, bar, baz, bar, bar, foo, baz, foo, foo, foo, baz, foo, baz, baz, baz, baz, foo, baz, foo, foo, bar, bar, bar, bar, bar, baz, foo, bar, bar, foo, bar, foo, bar, foo, baz, bar, foo, foo, baz, foo, baz, baz, baz, baz, baz, foo, foo, foo, foo, bar, bar, foo, foo, baz, baz, foo, bar, bar, bar, bar, baz, foo, bar, bar, foo, foo, foo, bar, bar, bar, foo, foo, baz, foo, bar, baz, bar, baz, bar, baz, baz, bar, baz, bar, foo, foo, baz, bar, baz, foo, baz, baz, foo, baz, foo, foo, bar, foo, bar, bar, foo, foo, foo, bar, bar, foo, baz, bar, baz, foo, bar, foo, bar, bar, foo, foo, baz, foo, foo, foo, baz, baz, baz, bar, bar, bar, baz, foo, bar, baz, foo, baz, foo, baz, bar, bar, baz, foo, bar, bar, foo, bar, foo, bar, foo, bar, bar, baz, bar, baz, bar, bar, bar, baz, baz, foo, foo, baz, foo, baz, foo, baz, foo, baz, foo, baz, baz, baz, baz, foo, baz, baz, bar, bar, foo, bar, bar, baz, foo, bar, bar, bar, baz, bar, baz, foo, baz, baz, foo, bar, bar, baz, bar, baz, foo, bar, bar, bar, foo, baz, foo, bar, baz, bar, baz, bar, baz, bar, bar, baz, foo, bar, foo, foo, baz, foo, baz, bar, baz, foo, foo, baz, foo, foo, bar, bar, baz, bar, bar, bar, foo, foo, bar, baz, foo, bar, bar, baz, bar, baz, baz, bar, bar, foo, bar, bar, bar, bar, baz, baz, foo, baz, baz, baz, baz, bar, foo, bar, bar, foo, bar, baz, bar, foo, bar, baz, bar, bar, bar, bar, bar, foo, foo, baz, foo, bar, baz, baz, baz, bar, bar, bar, bar, bar, bar, baz, baz, foo, bar, foo, foo, bar, bar, bar, baz, baz, baz, foo, bar, bar, baz, foo, foo, foo, bar, foo, foo, foo, baz, bar, bar, baz, baz, foo, baz, baz, baz, bar, bar, baz, bar, bar, bar, bar, bar, bar, bar, bar, baz, foo, baz, foo, foo, bar, bar, bar, foo, foo, baz, bar, foo, foo, bar, foo, bar, bar, bar, foo, baz, baz, baz, bar, baz, foo, bar, baz, bar, bar, bar, bar, baz, bar, baz, foo, foo, foo, bar, baz, bar, baz, bar, baz, baz, bar, baz, bar, bar, bar, bar, baz, baz, foo, foo, baz, bar, bar, bar, baz, foo, baz, bar, baz, baz, bar, foo, baz, foo, baz, baz, foo, bar, foo, baz, bar, baz, baz, foo, bar, bar, bar, bar, foo, baz, baz, bar, foo, bar, bar, foo, foo, bar, baz, bar, baz, baz, baz, bar, foo, foo, baz, baz, baz, baz, foo, baz, foo, foo, bar, baz, foo, foo, bar, bar, bar, foo, foo, foo, foo, baz, baz, baz, bar, baz, bar, baz, bar, foo, baz, bar, bar, baz, foo, foo, baz, bar, foo, foo, bar, baz, baz, bar, baz, foo, bar, foo, bar, foo, baz, baz, bar, baz, baz, baz, bar, foo, foo, baz, baz, bar, foo, baz, foo, foo, foo, baz, baz, baz, foo, baz, bar, foo, baz, bar, foo, foo, baz, baz, foo, baz, baz, baz, foo, foo, foo, foo, baz, baz, baz, bar, bar, foo, baz, baz, bar, bar, baz, foo, bar, bar, baz, foo, foo, bar, baz, foo, bar, baz, foo, baz, bar, foo, baz, baz, foo, bar, baz, bar, foo, bar, bar, foo, foo, bar, bar, baz, bar, baz, bar, baz, baz, baz, baz, bar, baz, foo, foo, foo, baz, bar, baz, bar, bar, baz, foo, baz, baz, bar, foo, baz, baz, baz, bar, bar, foo, bar, baz, bar, foo, baz, foo, foo, foo, foo, baz, foo, foo, bar, bar, foo, foo, baz, foo, bar, baz, baz, baz, foo, bar, baz, bar, foo, foo, bar, foo, bar, foo, baz, foo, bar, bar, bar, foo, baz, baz, baz, baz, bar, baz, bar, foo, bar, foo, foo, baz, baz, baz, bar, baz, baz, baz, bar, foo, bar, foo, bar, bar, foo, foo, bar, baz, bar, foo, baz, baz, bar, baz, bar, baz, baz, baz, bar, bar, baz, baz, baz, bar, foo, baz, foo, baz, bar, baz, bar, bar, foo, bar, foo, baz, baz, bar, bar, bar, foo, bar, foo, foo, baz, foo, baz, baz, foo, foo, foo, bar, bar, bar, foo, baz, bar, bar, foo, foo, baz, foo, baz, foo, foo, baz, bar, baz, foo, baz, foo, baz, bar, foo, bar, bar, foo, foo, bar, bar, bar, foo, bar, foo, baz, baz, foo, baz, foo, baz, foo, baz, baz, baz, baz, bar, foo, foo, baz, foo, bar, bar, baz, foo, baz, foo, baz, foo, bar, baz, bar, foo, baz, foo, baz, foo, baz, baz, baz, bar, bar, foo, baz, foo, baz, baz, foo, baz, bar, bar, foo, baz, foo, foo, bar, bar, baz, baz, baz, baz, baz, baz, baz, foo, baz, bar, foo, bar, bar, baz, baz, baz, bar, foo, foo, baz, baz, baz, foo, bar, foo, bar, foo, bar, bar, bar, foo, baz, bar, foo, baz, baz, foo, foo, bar, baz, baz, baz, foo, foo, baz, baz, bar, baz, bar, foo, bar, foo, baz, foo, foo, bar, bar, bar, bar, baz, bar, baz, bar, baz, baz, foo, baz, baz, baz, foo, foo, baz, foo, bar, foo, baz, baz, foo, bar, baz, bar, bar, baz, bar, bar, bar, bar, foo, bar, baz, foo, baz, foo, bar, foo, foo, bar, bar, baz, bar, bar, bar, bar, foo, foo, bar, baz, baz, foo, bar, baz, foo, bar, foo, bar, baz, foo, bar, bar, bar, baz, baz, bar, baz, foo, foo, foo, baz, baz, foo, foo, foo, foo, bar, bar, foo, baz, foo, baz, baz, bar, foo, baz, bar, bar, baz, bar, foo, foo, baz, baz, bar, foo, bar, foo, baz, bar, foo, baz, bar, baz, foo, bar, baz, baz, foo, baz, baz, baz, bar, bar, baz, bar, baz, baz, foo, foo, bar, baz, baz, bar, foo, baz, foo, foo, baz, baz, foo, bar, bar, bar, foo, bar, bar, bar, bar, foo, baz, bar, foo, baz, foo, bar, foo, bar, foo, foo, foo, foo, baz, baz, foo, bar, foo, baz, foo, bar, foo, bar, baz, bar, bar, bar, foo, bar, bar, baz, baz, baz, bar, foo, baz, baz, foo, baz, baz, baz, baz, bar, bar, baz, bar, bar, foo, bar, foo, bar, baz, foo, baz, baz, bar, foo, baz, baz, bar, foo, foo, bar, baz, baz, bar, bar, baz, baz, bar, foo, foo, bar, baz, bar, foo, foo, baz, foo, foo, bar, foo, baz, foo, baz, foo, bar, bar, bar, baz, baz, foo, baz, baz, foo, baz, foo, bar, bar, foo, bar, baz, bar, baz, baz, baz, bar, foo, foo, bar, bar, foo, baz, foo, bar, foo, foo, bar, baz, foo, baz, foo, baz, baz, baz, bar, baz, baz, baz, foo, bar, baz, foo, foo, bar, bar, baz, foo, foo, baz, foo, bar, foo, foo, foo, bar, foo, baz, baz, foo, bar, baz, baz, foo, foo, foo, baz, baz, foo, bar, baz, bar, baz, baz, baz, baz, baz, foo, foo, baz, foo, bar, baz, foo, baz, foo, baz, baz, foo, foo, bar, foo, baz, foo, bar, baz, baz, baz, foo, bar, bar, foo, baz, foo, bar, foo, baz, foo, baz, baz, bar, foo, foo, bar, bar, foo, bar, bar, bar, baz, foo, foo, foo, bar, baz, baz, baz, foo, bar, baz, bar, baz, bar, foo, foo, baz, bar, foo, baz, bar, foo, foo, foo, bar, bar, bar, bar, bar, bar, baz, baz, foo, "
     ]
    },
    {
     "name": "stdout",
     "output_type": "stream",
     "text": [
      "bar, foo, bar, bar, baz, foo, baz, bar, bar, baz, bar, baz, bar, foo, baz, bar, baz, bar, foo, bar, foo, foo, baz, foo, baz, bar, baz, foo, bar, bar, baz, bar, baz, bar, foo, bar, baz, foo, bar, baz, bar, foo, baz, bar, baz, bar, foo, baz, foo, baz, baz, bar, foo, bar, baz, foo, baz, bar, baz, foo, foo, foo, bar, foo, foo, foo, baz, foo, baz, baz, baz, bar, baz, bar, foo, baz, baz, foo, foo, foo, bar, foo, baz, baz, baz, baz, baz, bar, baz, bar, bar, foo, bar, bar, baz, bar, baz, bar, bar, foo, bar, foo, baz, baz, bar, baz, bar, bar, baz, foo, bar, baz, bar, baz, baz, bar, foo, baz, foo, baz, baz, baz, bar, bar, foo, bar, foo, bar, bar, bar, baz, baz, foo, foo, foo, baz, foo, baz, baz, foo, bar, foo, bar, baz, foo, baz, foo, foo, bar, bar, bar, bar, bar, bar, foo, bar, foo, foo, bar, bar, foo, foo, baz, foo, bar, baz, foo, bar, foo, foo, foo, baz, foo, baz, bar, baz, bar, baz, bar, baz, foo, bar, baz, bar, foo, foo, bar, foo, baz, bar, baz, bar, foo, baz, foo, bar, foo, foo, foo, foo, foo, baz, bar, baz, baz, bar, baz, baz, foo, baz, bar, foo, baz, bar, foo, foo, baz, baz, bar, baz, foo, bar, baz, baz, baz, bar, foo, bar, bar, bar, foo, foo, baz, foo, bar, foo, bar, foo, baz, foo, baz, bar, foo, foo, bar, bar, baz, baz, foo, bar, foo, bar, foo, bar, foo, foo, bar, bar, baz, baz, foo, foo, baz, baz, foo, baz, foo, baz, bar, baz, bar, foo, bar, foo, baz, baz, bar, bar, bar, bar, foo, baz, foo, bar, foo, baz, foo, foo, baz, bar, baz, foo, baz, foo, bar, bar, baz, baz, bar, foo, bar, bar, baz, bar, foo, foo, foo, baz, baz, foo, foo, baz, baz, foo, foo, baz, foo, foo, foo, baz, baz, baz, baz, baz, baz, foo, bar, foo, bar, baz, foo, foo, foo, foo, foo, bar, foo, bar, baz, foo, baz, bar, foo, bar, baz, bar, bar, bar, foo, bar, bar, baz, foo, foo, baz, bar, baz, baz, foo, foo, bar, bar, baz, foo, bar, bar, foo, foo, baz, baz, bar, foo, bar, bar, bar, baz, foo, baz, foo, baz, baz, bar, baz, baz, bar, bar, foo, baz, baz, foo, bar, foo, bar, baz, baz, bar, foo, baz, foo, foo, foo, bar, bar, bar, baz, bar, baz, foo, bar, baz, baz, foo, baz, foo, baz, foo, bar, baz, foo, foo, bar, foo, foo, foo, foo, bar, foo, bar, baz, bar, foo, baz, bar, foo, baz, baz, baz, baz, bar, bar, foo, bar, baz, baz, baz, bar, bar, baz, baz, bar, bar, bar, bar, foo, foo, baz, foo, baz, baz, foo, foo, bar, baz, foo, foo, baz, bar, bar, bar, baz, bar, baz, baz, baz, foo, bar, foo, bar, bar, foo, foo, foo, baz, bar, bar, foo, bar, baz, baz, bar, baz, baz, bar, bar, bar, bar, bar, bar, baz, bar, baz, foo, baz, bar, baz, baz, bar, foo, bar, foo, baz, bar, bar, foo, baz, bar, bar, foo, foo, bar, baz, foo, baz, baz, bar, bar, bar, bar, foo, baz, foo, foo, bar, baz, bar, foo, bar, baz, baz, foo, bar, bar, bar, foo, bar, foo, baz, foo, foo, bar, bar, bar, foo, baz, foo, bar, bar, baz, bar, baz, foo, baz, foo, bar, bar, foo, foo, foo, bar, bar, foo, foo, bar, foo, baz, foo, bar, bar, baz, bar, baz, baz, baz, foo, bar, baz, bar, bar, bar, baz, bar, baz, foo, bar, bar, foo, bar, baz, foo, foo, foo, baz, bar, baz, baz, baz, foo, baz, baz, bar, foo, foo, foo, baz, bar, bar, baz, bar, foo, foo, foo, bar, foo, bar, foo, bar, bar, foo, foo, bar, baz, baz, bar, bar, bar, foo, baz, bar, bar, baz, baz, bar, baz, foo, foo, foo, bar, foo, baz, baz, baz, baz, baz, baz, baz, foo, bar, bar, baz, bar, baz, baz, bar, baz, bar, foo, bar, foo, bar, bar, bar, bar, bar, baz, baz, baz, foo, baz, foo, baz, baz, baz, foo, foo, baz, baz, bar, foo, baz, bar, bar, foo, foo, foo, foo, baz, baz, foo, baz, baz, baz, bar, baz, foo, baz, bar, bar, baz, bar, bar, bar, foo, bar, foo, baz, baz, bar, baz, foo, bar, baz, baz, baz, bar, foo, bar, bar, bar, baz, bar, bar, foo, bar, baz, baz, bar, foo, foo, bar, bar, bar, baz, bar, foo, baz, baz, bar, bar, foo, foo, bar, foo, baz, baz, bar, bar, bar, foo, baz, bar, baz, foo, baz, foo, bar, bar, baz, baz, bar, bar, baz, foo, foo, foo, baz, baz, foo, foo, bar, foo, baz, baz, foo, foo, foo, bar, bar, foo, bar, baz, foo, foo, baz, bar, baz, baz, foo, foo, bar, foo, foo, foo, bar, foo, bar, bar, bar, baz, foo, foo, baz, foo, foo, foo, baz, baz, bar, foo, foo, baz, baz, foo, baz, foo, bar, bar, foo, baz, foo, baz, baz, foo, bar, baz, foo, bar, baz, baz, foo, foo, foo, bar, bar, bar, foo, bar, foo, baz, foo, foo, baz, foo, foo, foo, baz, foo, baz, foo, foo, bar, baz, foo, foo, bar, bar, foo, baz, bar, bar, baz, foo, foo, foo, baz, baz, bar, foo, baz, bar, baz, foo, foo, bar, bar, baz, bar, foo, baz, bar, foo, foo, foo, baz, bar, foo, foo, bar, baz, foo, baz, bar, baz, baz, bar, foo, baz, foo, foo, bar, bar, bar, baz, foo, bar, foo, baz, bar, bar, baz, foo, baz, bar, baz, baz, bar, foo, bar, foo, foo, baz, foo, baz, bar, baz, bar, foo, foo, bar, foo, baz, bar, baz, baz, foo, baz, bar, baz, bar, bar, baz, bar, foo, baz, foo, foo, bar, bar, bar, foo, foo, foo, bar, foo, baz, bar, bar, bar, bar, foo, bar, baz, bar, baz, foo, bar, bar, foo, baz, baz, foo, bar, foo, foo, baz, baz, bar, bar, bar, bar, bar, bar, foo, foo, bar, bar, bar, baz, foo, baz, baz, baz, baz, foo, bar, bar, foo, bar, foo, foo, bar, bar, foo, baz, baz, foo, foo, foo, bar, foo, baz, bar, bar, bar, foo, bar, bar, bar, foo, foo, foo, bar, bar, bar, foo, baz, foo, bar, foo, bar, foo, foo, foo, bar, baz, bar, baz, baz, baz, foo, baz, baz, bar, foo, baz, baz, baz, bar, bar, bar, bar, foo, foo, bar, baz, bar, bar, foo, baz, bar, baz, bar, foo, bar, bar, bar, baz, baz, foo, foo, baz, foo, bar, baz, bar, baz, foo, bar, bar, bar, foo, foo, bar, bar, foo, baz, bar, baz, baz, baz, baz, bar, bar, foo, baz, foo, foo, baz, foo, foo, bar, baz, foo, baz, foo, baz, bar, bar, baz, baz, baz, baz, foo, bar, baz, bar, foo, foo, bar, baz, foo, foo, bar, foo, baz, foo, baz, baz, bar, bar, foo, bar, bar, foo, bar, baz, bar, bar, foo, bar, baz, bar, baz, foo, foo, foo, bar, baz, bar, baz, baz, baz, baz, foo, bar, bar, baz, foo, foo, bar, baz, baz, bar, baz, baz, foo, foo, baz, baz, foo, foo, foo, baz, baz, foo, baz, baz, baz, bar, baz, baz, baz, bar, baz, baz, baz, bar, foo, foo, bar, bar, bar, foo, foo, foo, baz, bar, bar, foo, bar, foo, bar, baz, foo, baz, foo, bar, bar, bar, foo, foo, bar, bar, baz, foo, baz, baz, foo, baz, baz, bar, bar, foo, bar, baz, bar, baz, bar, baz, foo, foo, bar, foo, bar, bar, bar, baz, baz, baz, foo, bar, baz, bar, bar, bar, foo, baz, foo, bar, foo, bar, foo, baz, bar, baz, foo, bar, bar, foo, bar, bar, baz, foo, bar, foo, bar, bar, baz, baz, baz, foo, foo, foo, foo, foo, bar, foo, baz, baz, foo, foo, bar, foo, bar, bar, bar, bar, bar, foo, foo, bar, bar, bar, foo, baz, baz, foo, foo, foo, bar, baz, bar, foo, bar, bar, foo, foo, baz, bar, baz, baz, foo, baz, bar, bar, foo, baz, bar, baz, baz, foo, foo, baz, bar, bar, baz, foo, bar, foo, baz, foo, bar, bar, bar, foo, foo, baz, bar, foo, foo, bar, baz, baz, foo, foo, baz, baz, bar, baz, baz, bar, baz, foo, baz, foo, baz, baz, baz, bar, foo, baz, bar, baz, foo, baz, foo, foo, baz, foo, bar, foo, baz, baz, foo, bar, baz, bar, bar, baz, bar, baz, baz, bar, bar, foo, baz, bar, bar, foo, baz, baz, foo, foo, baz, foo, bar, baz, baz, bar, baz, bar, bar, bar, foo, bar, baz, foo, baz, foo, baz, baz, bar, baz, baz, baz, baz, foo, bar, baz, foo, foo, foo, bar, foo, foo, bar, foo, bar, foo, foo, bar, bar, foo, baz, bar, foo, baz, foo, baz, baz, baz, foo, bar, bar, bar, bar, foo, foo, bar, foo, foo, foo, bar, foo, bar, foo, bar, foo, bar, bar, bar, foo, foo, baz, bar, foo, baz, bar, bar, baz, foo, foo, baz, bar, bar, foo, foo, baz, baz, foo, foo, baz, foo, baz, baz, baz, baz, foo, foo, baz, bar, foo, foo, baz, baz, baz, bar, bar, foo, foo, foo, baz, bar, foo, baz, bar, bar, foo, baz, baz, foo, baz, bar, foo, bar, baz, foo, baz, bar, bar, baz, bar, foo, baz, baz, foo, foo, bar, bar, bar, bar, baz, foo, foo, bar, bar, bar, foo, foo, foo, bar, foo, bar, foo, foo, foo, foo, bar, baz, bar, baz, foo, baz, baz, bar, bar, bar, bar, bar, foo, foo, bar, foo, bar, baz, bar, bar, baz, foo, baz, foo, foo, baz, foo, baz, baz, baz, baz, bar, bar, bar, baz, foo, bar, baz, foo, foo, baz, baz, bar, bar, foo, foo, baz, baz, baz, foo, baz, baz, foo, baz, foo, bar, bar, baz, baz, bar, bar, bar, bar, bar, foo, bar, baz, bar, baz, bar, bar, foo, foo, bar, foo, bar, baz, bar, foo, foo, foo, bar, bar, foo, bar, bar, bar, foo, foo, foo, foo, foo, bar, foo, baz, bar, bar, foo, bar, foo, baz, bar, bar, baz, bar, baz, bar, baz, bar, foo, foo, bar, bar, baz, baz, foo, foo, foo, baz, baz, foo, bar, foo, bar, bar, baz, foo, foo, foo, foo, bar, baz, foo, baz, bar, foo, bar, baz, foo, foo, baz, foo, baz, baz, foo, foo, bar, baz, baz, baz, bar, baz, baz, foo, bar, baz, bar, bar, bar, bar, foo, baz, bar, baz, bar, foo, foo, foo, bar, foo, foo, baz, baz, baz, bar, bar, foo, bar, baz, bar, foo, foo, bar, baz, bar, foo, baz, foo, bar, bar, foo, bar, baz, foo, bar, bar, foo, foo, bar, baz, bar, baz, bar, bar, foo, baz, baz, bar, bar, foo, bar, foo, foo, bar, baz, baz, bar, baz, foo, bar, bar, foo, baz, foo, baz, baz, baz, bar, baz, foo, baz, bar, baz, foo, baz, bar, baz, bar, baz, foo, baz, foo, foo, bar, baz, foo, foo, baz, bar, bar, baz, foo, foo, baz, foo, foo, bar, foo, bar, baz, bar, bar, foo, foo, bar, bar, foo, foo, bar, bar, foo, foo, foo, foo, foo, foo, bar, bar, foo, baz, bar, foo, baz, foo, foo, baz, foo, baz, foo, foo, foo, baz, baz, baz, foo, foo, baz, bar, bar, bar, foo, bar, bar, foo, foo, baz, foo, baz, bar, foo, baz, baz, bar, bar, baz, bar, baz, baz, foo, baz, bar, baz, foo, foo, baz, foo, baz, foo, bar, baz, foo, baz, bar, bar, foo, foo, baz, baz, foo, foo, foo, bar, baz, foo, foo, bar, baz, bar, foo, baz, foo, baz, bar, bar, baz, bar, baz, bar, baz, foo, baz, baz, foo, bar, baz, baz, foo, bar, bar, bar, foo, foo, foo, bar, foo, bar, baz, bar, baz, foo, baz, bar, bar, foo, foo, bar, baz, foo, bar, foo, bar, bar, foo, baz, foo, baz, foo, bar, foo, bar, bar, baz, foo, foo, baz, foo, foo, baz, bar, foo, foo, bar, baz, baz, bar, bar, foo, bar, foo, bar, bar, baz, baz, baz, bar, foo, bar, foo, bar, baz, bar, foo, baz, bar, bar, baz, baz, bar, foo, bar, foo, bar, baz, foo, bar, bar, bar, foo, bar, foo, foo, baz, bar, foo, baz, baz, baz, foo, foo, baz, foo, baz, foo, bar, foo, baz, foo, baz, foo, baz, baz, baz, baz, foo, bar, bar, foo, foo, foo, bar, bar, bar, foo, foo, foo, bar, foo, foo, foo, foo, bar, bar, baz, baz, bar, foo, bar, baz, baz, baz, bar, foo, bar, baz, baz, baz, foo, bar, bar, bar, bar, baz, bar, bar, baz, bar, bar, foo, baz, bar, baz, foo, bar, baz, baz, bar, bar, baz, bar, baz, baz, baz, foo, bar, bar, baz, bar, baz, baz, foo, foo, foo, bar, bar, baz, bar, baz, foo, foo, bar, bar, baz, foo, bar, bar, foo, foo, bar, baz, foo, bar, foo, foo, foo, baz, foo, foo, bar, baz, foo, foo, bar, bar, bar, bar, baz, foo, foo, baz, bar, bar, baz, bar, baz, baz, baz, foo, foo, baz, foo, baz, bar, bar, bar, bar, foo, foo, foo, foo, foo, baz, baz, foo, baz, bar, foo, foo, foo, baz, bar, foo, baz, foo, baz, bar, foo, foo, foo, baz, baz, bar, bar, bar, baz, baz, baz, bar, bar, bar, baz, baz, foo, baz, baz, baz, foo, foo, baz, baz, foo, foo, baz, foo, bar, foo, baz, bar, baz, foo, baz, baz, bar, foo, bar, bar, foo, baz, foo, baz, bar, baz, foo, bar, foo, baz, foo, baz, baz, foo, foo, baz, baz, foo, baz, baz, baz, baz, baz, bar, baz, foo, foo, bar, foo, baz, bar, bar, foo, baz, bar, bar, foo, baz, bar, bar, foo, bar, baz, baz, bar, bar, bar, foo, baz, bar, foo, bar, bar, baz, foo, foo, foo, foo, bar, foo, bar, bar, baz, foo, bar, baz, foo, foo, bar, foo, bar, baz, baz, baz, bar, foo, bar, baz"
     ]
    },
    {
     "name": "stdout",
     "output_type": "stream",
     "text": [
      ", bar, bar, baz, baz, bar, bar, bar, foo, foo, foo, foo, foo, foo, baz, foo, foo, baz, baz, foo, bar, bar, bar, foo, foo, foo, baz, bar, bar, bar, bar, baz, bar, foo, baz, baz, foo, foo, bar, foo, baz, foo, foo, foo, baz, bar, baz, baz, baz, bar, foo, bar, foo, bar, baz, foo, baz, bar, foo, foo, bar, foo, foo, foo, foo, foo, baz, baz, baz, baz, foo, foo, baz, foo, baz, bar, bar, baz, baz, baz, baz, bar, baz, bar, foo, foo, foo, bar, foo, baz, bar, bar, foo, bar, foo, baz, baz, baz, baz, baz, foo, bar, baz, baz, bar, foo, bar, foo, bar, bar, bar, baz, baz, baz, baz, bar, baz, foo, bar, foo, baz, bar, bar, baz, bar, baz, baz, foo, baz, bar, baz, foo, bar, foo, bar, foo, foo, baz, bar, bar, foo, bar, bar, baz, baz, foo, foo, bar, baz, bar, baz, baz, foo, bar, foo, bar, bar, baz, baz, baz, foo, baz, bar, baz, foo, baz, baz, bar, baz, bar, foo, baz, baz, baz, baz, foo, bar, foo, baz, bar, baz, foo, foo, bar, baz, baz, bar, bar, bar, foo, foo, baz, bar, baz, bar, foo, bar, baz, foo, foo, foo, foo, baz, foo, bar, foo, bar, bar, bar, foo, bar, baz, bar, foo, bar, bar, foo, baz, bar, foo, foo, foo, foo, baz, bar, baz, foo, foo, baz, foo, foo, baz, bar, baz, baz, foo, foo, bar, bar, bar, baz, foo, bar, baz, foo, bar, bar, foo, foo, foo, baz, bar, baz, baz, baz, bar, baz, baz, foo, foo, baz, baz, foo, bar, bar, bar, bar, foo, bar, baz, baz, foo, bar, bar, baz, foo, baz, foo, bar, bar, foo, bar, baz, foo, bar, foo, bar, baz, bar, baz, baz, baz, bar, baz, baz, foo, foo, baz, foo, bar, foo, baz, foo, foo, baz, foo, bar, baz, foo, foo, baz, foo, baz, bar, bar, baz, bar, foo, baz, baz, foo, foo, foo, bar, baz, bar, foo, bar, foo, baz, bar, foo, baz, bar, bar, foo, bar, foo, foo, foo, foo, foo, bar, foo, foo, baz, baz, foo, foo, foo, bar, foo, bar, foo, bar, baz, foo, bar, baz, baz, foo, baz, bar, bar, bar, bar, foo, baz, foo, foo, baz, baz, baz, bar, foo, foo, foo, foo, foo, baz, baz, baz, foo, bar, baz, baz, foo, baz, baz, baz, baz, bar, bar, foo, bar, baz, foo, foo, baz, foo, bar, foo, foo, foo, baz, bar, baz, foo, bar, baz, bar, bar, baz, foo, foo, baz, foo, bar, baz, bar, bar, baz, bar, baz, foo, baz, foo, foo, baz, bar, baz, foo, baz, foo, baz, bar, bar, foo, baz, bar, bar, baz, bar, foo, bar, foo, bar, baz, baz, foo, bar, baz, foo, baz, foo, bar, bar, baz, bar, bar, baz, baz, baz, baz, foo, bar, baz, bar, foo, foo, baz, baz, baz, foo, bar, foo, foo, baz, bar, foo, foo, baz, bar, bar, baz, baz, bar, baz, baz, foo, foo, baz, baz, foo, bar, foo, baz, baz, foo, baz, foo, foo, foo, bar, foo, bar, foo, foo, foo, bar, baz, baz, baz, baz, bar, bar, baz, foo, baz, baz, foo, baz, baz, foo, foo, baz, bar, baz, bar, baz, foo, baz, bar, baz, foo, bar, baz, baz, foo, bar, foo, baz, foo, foo, bar, foo, baz, bar, foo, foo, baz, baz, baz, foo, foo, bar, foo, baz, foo, foo, baz, baz, bar, foo, bar, foo, foo, baz, baz, bar, bar, foo, foo, foo, foo, bar, bar, bar, foo, bar, bar, bar, baz, baz, bar, foo, foo, baz, foo, bar, baz, bar, bar, baz, foo, foo, foo, bar, baz, baz, baz, baz, baz, baz, bar, baz, bar, baz, foo, foo, bar, baz, foo, baz, foo, bar, bar, baz, baz, foo, foo, baz, foo, foo, baz, foo, foo, baz, bar, foo, bar, bar, bar, bar, foo, foo, bar, foo, foo, baz, baz, baz, bar, baz, bar, foo, foo, bar, baz, baz, foo, bar, foo, baz, foo, foo, baz, baz, bar, bar, bar, foo, bar, foo, foo, foo, foo, bar, foo, foo, bar, baz, bar, baz, bar, bar, bar, foo, bar, bar, bar, foo, baz, bar, foo, foo, baz, foo, bar, baz, bar, bar, foo, bar, bar, foo, baz, foo, foo, foo, foo, foo, bar, foo, bar, foo, baz, bar, foo, bar, bar, bar, baz, bar, baz, baz, baz, foo, foo, bar, foo, bar, baz, baz, baz, bar, baz, bar, foo, baz, bar, bar, baz, baz, foo, baz, baz, baz, foo, bar, baz, bar, baz, bar, foo, baz, foo, foo, foo, baz, foo, bar, bar, bar, bar, bar, foo, foo, baz, bar, bar, baz, baz, bar, foo, baz, baz, bar, foo, foo, foo, baz, bar, bar, foo, foo, foo, bar, foo, bar, foo, baz, bar, foo, baz, foo, bar, foo, bar, foo, bar, baz, foo, bar, bar, foo, bar, bar, foo, baz, baz, foo, foo, bar, bar, foo, foo, baz, foo, foo, bar, foo, bar, foo, bar, foo, foo, baz, bar, baz, foo, foo, bar, baz, foo, foo, bar, baz, foo, baz, bar, foo, bar, bar, baz, bar, baz, foo, foo, baz, baz, foo, foo, foo, bar, foo, bar, foo, bar, foo, bar, baz, baz, baz, foo, foo, bar, foo, bar, bar, bar, bar, baz, foo, foo, bar, foo, foo, bar, baz, foo, bar, baz, foo, bar, bar, bar, bar, foo, bar, foo, baz, foo, baz, foo, baz, foo, bar, bar, baz, foo, bar, bar, baz, baz, baz, baz, bar, foo, bar, foo, baz, bar, bar, bar, foo, foo, baz, bar, baz, bar, bar, bar, bar, baz, bar, baz, bar, foo, foo, foo, foo, bar, foo, baz, baz, bar, foo, bar, foo, baz, foo, foo, bar, bar, bar, bar, foo, baz, baz, bar, bar, baz, bar, foo, baz, baz, foo, bar, bar, foo, baz, bar, baz, baz, foo, foo, foo, baz, bar, foo, foo, baz, baz, bar, baz, foo, baz, foo, baz, foo, foo, baz, baz, foo, bar, baz, bar, foo, foo, foo, baz, bar, baz, baz, baz, baz, bar, foo, foo, baz, bar, bar, foo, foo, bar, foo, foo, foo, bar, baz, bar, baz, baz, foo, bar, bar, baz, bar, baz, bar, bar, baz, foo, foo, foo, baz, bar, bar, bar, bar, bar, bar, bar, bar, baz, foo, baz, foo, baz, baz, baz, baz, bar, bar, bar, foo, foo, foo, baz, foo, bar, foo, baz, bar, foo, baz, bar, baz, baz, baz, bar, baz, bar, baz, bar, baz, baz, bar, bar, baz, foo, foo, baz, baz, bar, foo, bar, baz, foo, foo, bar, baz, foo, bar, baz, foo, baz, baz, foo, baz, foo, bar, bar, bar, foo, baz, foo, foo, foo, bar, baz, baz, baz, foo, foo, bar, bar, baz, baz, baz, foo, bar, baz, baz, baz, foo, foo, baz, bar, bar, foo, bar, baz, baz, bar, baz, baz, baz, baz, baz, baz, foo, foo, bar, foo, baz, baz, foo, bar, foo, foo, foo, bar, baz, bar, bar, bar, baz, foo, baz, bar, baz, baz, baz, bar, bar, bar, bar, baz, baz, bar, bar, baz, baz, baz, foo, baz, foo, foo, baz, foo, baz, baz, baz, baz, foo, foo, baz, baz, foo, foo, foo, bar, foo, bar, foo, bar, baz, bar, baz, baz, foo, foo, bar, bar, baz, foo, baz, bar, bar, bar, bar, foo, foo, foo, foo, bar, baz, baz, foo, foo, baz, foo, foo, foo, foo, foo, bar, foo, baz, baz, baz, bar, baz, foo, baz, baz, foo, foo, foo, bar, bar, baz, bar, foo, baz, bar, foo, foo, foo, foo, foo, baz, foo, baz, foo, foo, foo, foo, baz, bar, foo, foo, bar, foo, foo, baz, bar, bar, bar, baz, foo, bar, bar, foo, baz, foo, baz, baz, bar, foo, baz, bar, foo, foo, baz, baz, bar, bar, foo, foo, baz, bar, foo, bar, foo, foo, baz, baz, foo, bar, baz, bar, foo, baz, bar, baz, foo, baz, foo, foo, baz, bar, bar, bar, foo, foo, baz, baz, foo, bar, baz, foo, baz, bar, baz, foo, bar, foo, baz, bar, baz, baz, baz, foo, baz, baz, baz, baz, baz, baz, bar, foo, bar, baz, bar, baz, bar, foo, foo, foo, baz, baz, bar, bar, bar, bar, foo, foo, foo, foo, baz, baz, foo, bar, bar, bar, foo, foo, bar, foo, baz, bar, baz, foo, foo, foo, foo, baz, baz, bar, baz, baz, foo, foo, bar, foo, foo, baz, baz, foo, baz, baz, bar, baz, foo, baz, foo, baz, bar, foo, bar, foo, baz, foo, baz, baz, bar, bar, bar, bar, baz, foo, bar, bar, bar, baz, foo, baz, foo, foo, bar, bar, bar, baz, baz, foo, foo, bar, foo, bar, bar, bar, bar, baz, bar, baz, foo, baz, bar, baz, baz, bar, bar, bar, bar, foo, baz, foo, baz, bar, foo, baz, foo, bar, foo, baz, foo, baz, foo, bar, baz, foo, bar, foo, foo, baz, foo, bar, foo, foo, foo, baz, foo, baz, foo, foo, baz, baz, foo, baz, baz, foo, foo, bar, foo, baz, foo, bar, foo, bar, bar, foo, foo, foo, bar, bar, foo, bar, bar, bar, baz, foo, foo, bar, foo, baz, baz, foo, baz, foo, bar, bar, baz, bar, baz, baz, baz, bar, baz, foo, bar, foo, bar, baz, foo, baz, bar, bar, bar, baz, foo, foo, foo, bar, bar, baz, baz, bar, baz, foo, baz, baz, baz, bar, bar, bar, foo, foo, baz, baz, bar, bar, foo, foo, foo, baz, foo, bar, bar, foo, baz, bar, baz, baz, bar, bar, bar, bar, bar, baz, bar, foo, foo, baz, baz, foo, baz, foo, baz, bar, foo, bar, bar, bar, bar, bar, foo, baz, bar, bar, baz, bar, foo, bar, baz, foo, baz, bar, baz, foo, bar, bar, bar, foo, baz, baz, bar, foo, bar, foo, baz, foo, bar, bar, baz, baz, baz, foo, bar, bar, foo, foo, baz, bar, bar, bar, baz, foo, bar, baz, bar, bar, baz, foo, baz, bar, baz, foo, bar, bar, bar, baz, bar, foo, bar, baz, baz, foo, foo, baz, baz, foo, foo, bar, bar, bar, foo, baz, bar, foo, bar, bar, foo, foo, foo, foo, foo, bar, foo, foo, baz, foo, bar, foo, baz, bar, baz, bar, foo, bar, baz, foo, baz, foo, baz, bar, foo, foo, foo, baz, bar, baz, baz, baz, foo, bar, foo, baz, bar, baz, baz, bar, baz, bar, baz, foo, bar, baz, bar, bar, bar, foo, foo, foo, foo, foo, baz, bar, bar, baz, foo, foo, foo, bar, bar, baz, foo"
     ]
    },
    {
     "name": "stdout",
     "output_type": "stream",
     "text": [
      ", baz, baz, foo, foo, baz, baz, bar, foo, baz, baz, foo, baz, foo, foo, bar, baz, bar, baz, baz, baz, baz, baz, baz, foo, bar, bar, bar, bar, foo, bar, foo, baz, baz, foo, baz, baz, baz, foo, foo, baz, foo, baz, bar, bar, baz, baz, bar, baz, foo, foo, foo, baz, bar, foo, bar, baz, foo, bar, bar, baz, foo, baz, baz, baz, foo, foo, baz, bar, baz, foo, foo, baz, foo, bar, bar, bar, foo, baz, bar, bar, foo, baz, foo, baz, foo, foo, foo, foo, bar, bar, foo, bar, bar, foo, baz, foo, bar, baz, bar, baz, foo, foo, foo, foo, bar, bar, baz, foo, foo, bar, foo, foo, foo, bar, bar, bar, baz, bar, foo, baz, foo, bar, baz, bar, foo, bar, baz, foo, baz, baz, foo, baz, bar, bar, bar, baz, foo, foo, foo, bar, baz, baz, "
     ]
    }
   ],
   "source": [
    "for item in items:\n",
    "    print(item, end=', ')"
   ]
  },
  {
   "cell_type": "markdown",
   "metadata": {},
   "source": [
    "### Looping through an iterable... with index"
   ]
  },
  {
   "cell_type": "code",
   "execution_count": 14,
   "metadata": {},
   "outputs": [
    {
     "name": "stdout",
     "output_type": "stream",
     "text": [
      "0: foo, 1: foo, 2: bar, 3: bar, 4: bar, 5: bar, 6: baz, 7: baz, 8: foo, 9: bar, 10: bar, 11: bar, 12: foo, 13: foo, 14: baz, 15: baz, 16: bar, 17: foo, 18: baz, 19: baz, 20: bar, 21: bar, 22: bar, 23: baz, 24: bar, 25: foo, 26: bar, 27: bar, 28: baz, 29: bar, 30: foo, 31: foo, 32: foo, 33: bar, 34: baz, 35: baz, 36: bar, 37: baz, 38: baz, 39: baz, 40: baz, 41: baz, 42: bar, 43: bar, 44: baz, 45: foo, 46: bar, 47: foo, 48: foo, 49: bar, 50: foo, 51: baz, 52: baz, 53: baz, 54: baz, 55: bar, 56: bar, 57: baz, 58: bar, 59: baz, 60: foo, 61: baz, 62: foo, 63: bar, 64: baz, 65: foo, 66: foo, 67: bar, 68: baz, 69: baz, 70: bar, 71: foo, 72: bar, 73: foo, 74: bar, 75: bar, 76: bar, 77: baz, 78: bar, 79: foo, 80: baz, 81: baz, 82: bar, 83: baz, 84: foo, 85: bar, 86: foo, 87: foo, 88: foo, 89: baz, 90: bar, 91: foo, 92: bar, 93: bar, 94: baz, 95: foo, 96: bar, 97: foo, 98: baz, 99: bar, \n"
     ]
    }
   ],
   "source": [
    "for index, item in enumerate(items):\n",
    "    if index == 100:\n",
    "        print('')\n",
    "        break\n",
    "    print(str(index) + ':', item, end=', ')"
   ]
  },
  {
   "cell_type": "markdown",
   "metadata": {},
   "source": [
    "### Looping through multiple lists"
   ]
  },
  {
   "cell_type": "code",
   "execution_count": 15,
   "metadata": {},
   "outputs": [],
   "source": [
    "sounds = [choice(['meow', 'bark', 'hiss']) for _ in range(10_000)]"
   ]
  },
  {
   "cell_type": "code",
   "execution_count": 16,
   "metadata": {},
   "outputs": [
    {
     "name": "stdout",
     "output_type": "stream",
     "text": [
      "foo bark\n"
     ]
    }
   ],
   "source": [
    "for item, sound in zip(items, sounds):\n",
    "    print(item, sound)\n",
    "    break"
   ]
  },
  {
   "cell_type": "markdown",
   "metadata": {},
   "source": [
    "# Python Object Orientation\n",
    "\n",
    "## Four Pillars of Object-Oriented Programming:\n",
    "\n",
    "1. Encapsulation\n",
    "2. Abstraction\n",
    "3. Inheritance\n",
    "4. Polymorphism"
   ]
  },
  {
   "cell_type": "markdown",
   "metadata": {},
   "source": [
    "## Guido: We're all consenting adults here\n"
   ]
  },
  {
   "cell_type": "code",
   "execution_count": 17,
   "metadata": {},
   "outputs": [],
   "source": [
    "class Base:\n",
    "    def __init__(self):\n",
    "        self.variable_name = 'Foo'\n",
    "        self._not_hidden = 'Bar'\n",
    "        self.__catch_me = 'Baz'\n",
    "        \n",
    "my_object = Base()"
   ]
  },
  {
   "cell_type": "code",
   "execution_count": 18,
   "metadata": {},
   "outputs": [
    {
     "name": "stdout",
     "output_type": "stream",
     "text": [
      "Foo\n",
      "Bar\n",
      "'Base' object has no attribute '__catch_me'\n"
     ]
    }
   ],
   "source": [
    "try:\n",
    "    print(my_object.variable_name)\n",
    "    print(my_object._not_hidden)\n",
    "    print(my_object.__catch_me)\n",
    "except Exception as e:\n",
    "    print(e)"
   ]
  },
  {
   "cell_type": "code",
   "execution_count": 19,
   "metadata": {},
   "outputs": [
    {
     "name": "stdout",
     "output_type": "stream",
     "text": [
      "Ham\n",
      "Spam\n"
     ]
    }
   ],
   "source": [
    "try:\n",
    "    my_object.variable_name = 'Ham'\n",
    "    print(my_object.variable_name)\n",
    "    \n",
    "    my_object._not_hidden = 'Spam'\n",
    "    print(my_object._not_hidden)\n",
    "except Exception as e:\n",
    "    print(e)"
   ]
  },
  {
   "cell_type": "markdown",
   "metadata": {},
   "source": [
    "## Sample Case"
   ]
  },
  {
   "cell_type": "code",
   "execution_count": 20,
   "metadata": {},
   "outputs": [
    {
     "name": "stdout",
     "output_type": "stream",
     "text": [
      "VAT as an attribute should be 22, not 12.0.\n"
     ]
    }
   ],
   "source": [
    "class Purchase:\n",
    "    def __init__(self, amount):\n",
    "        self.amount = amount\n",
    "        self.calculate_VAT()\n",
    "        \n",
    "    def calculate_VAT(self):\n",
    "        self.VAT = self.amount * 0.12\n",
    "        return self.VAT\n",
    "    \n",
    "    #_calculate_VAT = calculate_VAT\n",
    "        \n",
    "class Cost(Purchase):\n",
    "    def calculate_VAT(self):\n",
    "        return Purchase.calculate_VAT(self) + 10\n",
    "\n",
    "item = Cost(100)\n",
    "\n",
    "try:\n",
    "    assert item.calculate_VAT() == 22.0, \"VAT as calculated by the subclassed method is 22.\"\n",
    "    assert item.VAT == 22.0, f\"VAT as an attribute should be 22, not {item.VAT}.\"\n",
    "except AssertionError as e:\n",
    "    print(e)"
   ]
  },
  {
   "cell_type": "code",
   "execution_count": 21,
   "metadata": {},
   "outputs": [
    {
     "name": "stdout",
     "output_type": "stream",
     "text": [
      "Baz\n"
     ]
    }
   ],
   "source": [
    "# Returning to our my_object example, \n",
    "# class local reference Base.__catch_me\n",
    "# is just a syntactic sugar for\n",
    "# Base._Base__catch_me\n",
    "\n",
    "print(my_object._Base__catch_me)"
   ]
  },
  {
   "cell_type": "markdown",
   "metadata": {},
   "source": [
    "## Python Protocols"
   ]
  },
  {
   "cell_type": "code",
   "execution_count": 22,
   "metadata": {},
   "outputs": [],
   "source": [
    "class AddTwoNumbersAsClass:\n",
    "    def __call__(self, x, y):\n",
    "        return x + y\n",
    "    \n",
    "def add_as_function(x,y):\n",
    "    return x + y"
   ]
  },
  {
   "cell_type": "code",
   "execution_count": 23,
   "metadata": {},
   "outputs": [
    {
     "name": "stdout",
     "output_type": "stream",
     "text": [
      "Add as class 10\n",
      "Add as function 10\n"
     ]
    }
   ],
   "source": [
    "add_class = AddTwoNumbersAsClass()\n",
    "print('Add as class', add_class(7,3))\n",
    "\n",
    "print('Add as function', add_as_function(3, 7))"
   ]
  },
  {
   "cell_type": "code",
   "execution_count": 24,
   "metadata": {},
   "outputs": [],
   "source": [
    "class Polynomial:\n",
    "    def __init__(self, x, y, z):\n",
    "        self.x = x\n",
    "        self.y = y\n",
    "        self.z = z\n",
    "        \n",
    "    def __repr__(self):\n",
    "        return f\"Polynomial({self.x}x^2 + {self.y}x + {self.z})\"\n",
    "    \n",
    "    def __len__(self):\n",
    "        if self.x != 0:\n",
    "            return 2\n",
    "        if self.y != 0:\n",
    "            return 1\n",
    "        return 0"
   ]
  },
  {
   "cell_type": "code",
   "execution_count": 25,
   "metadata": {},
   "outputs": [],
   "source": [
    "expression = Polynomial(3, 4, 5)"
   ]
  },
  {
   "cell_type": "code",
   "execution_count": 26,
   "metadata": {},
   "outputs": [
    {
     "name": "stdout",
     "output_type": "stream",
     "text": [
      "Polynomial(3x^2 + 4x + 5)\n"
     ]
    }
   ],
   "source": [
    "print(expression)"
   ]
  },
  {
   "cell_type": "code",
   "execution_count": 27,
   "metadata": {},
   "outputs": [
    {
     "data": {
      "text/plain": [
       "2"
      ]
     },
     "execution_count": 27,
     "metadata": {},
     "output_type": "execute_result"
    }
   ],
   "source": [
    "len(expression)"
   ]
  },
  {
   "cell_type": "markdown",
   "metadata": {},
   "source": [
    "# Data Structures and Algorithms\n",
    "\n",
    "[![](http://img.youtube.com/vi/bum_19loj9A/0.jpg)](https://www.youtube.com/playlist?list=PLBZBJbE_rGRV8D7XZ08LK6z-4zPoWzu5H \"CS Dojo - Data Structures and Algorithms\")"
   ]
  },
  {
   "cell_type": "code",
   "execution_count": null,
   "metadata": {},
   "outputs": [],
   "source": []
  }
 ],
 "metadata": {
  "kernelspec": {
   "display_name": "Python 3",
   "language": "python",
   "name": "python3"
  },
  "language_info": {
   "codemirror_mode": {
    "name": "ipython",
    "version": 3
   },
   "file_extension": ".py",
   "mimetype": "text/x-python",
   "name": "python",
   "nbconvert_exporter": "python",
   "pygments_lexer": "ipython3",
   "version": "3.8.1"
  }
 },
 "nbformat": 4,
 "nbformat_minor": 4
}
